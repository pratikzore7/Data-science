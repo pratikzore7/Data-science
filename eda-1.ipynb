{
 "cells": [
  {
   "cell_type": "markdown",
   "metadata": {},
   "source": [
    "# Exploratory Data Analysis"
   ]
  },
  {
   "cell_type": "code",
   "execution_count": null,
   "metadata": {
    "ExecuteTime": {
     "end_time": "2021-08-04T11:11:13.172867Z",
     "start_time": "2021-08-04T11:10:46.630Z"
    },
    "execution": {
     "iopub.execute_input": "2021-08-03T06:35:35.509793Z",
     "iopub.status.busy": "2021-08-03T06:35:35.509237Z",
     "iopub.status.idle": "2021-08-03T06:35:46.265033Z",
     "shell.execute_reply": "2021-08-03T06:35:46.264024Z",
     "shell.execute_reply.started": "2021-08-03T06:35:35.509759Z"
    }
   },
   "outputs": [],
   "source": [
    "\n",
    "!pip install sweetviz"
   ]
  },
  {
   "cell_type": "code",
   "execution_count": 8,
   "metadata": {
    "ExecuteTime": {
     "end_time": "2021-08-04T11:57:44.660214Z",
     "start_time": "2021-08-04T11:57:44.654217Z"
    },
    "execution": {
     "iopub.execute_input": "2021-08-03T06:35:46.267128Z",
     "iopub.status.busy": "2021-08-03T06:35:46.266840Z",
     "iopub.status.idle": "2021-08-03T06:35:47.083395Z",
     "shell.execute_reply": "2021-08-03T06:35:47.082397Z",
     "shell.execute_reply.started": "2021-08-03T06:35:46.267099Z"
    }
   },
   "outputs": [],
   "source": [
    "#load the libraries\n",
    "import pandas as pd\n",
    "import numpy as np\n",
    "import sweetviz as sv"
   ]
  },
  {
   "cell_type": "code",
   "execution_count": 10,
   "metadata": {
    "ExecuteTime": {
     "end_time": "2021-08-04T11:59:55.694244Z",
     "start_time": "2021-08-04T11:59:55.651272Z"
    },
    "execution": {
     "iopub.execute_input": "2021-08-03T06:35:47.084804Z",
     "iopub.status.busy": "2021-08-03T06:35:47.084528Z",
     "iopub.status.idle": "2021-08-03T06:35:47.103777Z",
     "shell.execute_reply": "2021-08-03T06:35:47.102607Z",
     "shell.execute_reply.started": "2021-08-03T06:35:47.084777Z"
    }
   },
   "outputs": [],
   "source": [
    "data1 = pd.read_csv(r\"C:\\Users\\DELL\\Documents\\Exelr\\EDA\\data_clean.csv\")"
   ]
  },
  {
   "cell_type": "code",
   "execution_count": 11,
   "metadata": {
    "ExecuteTime": {
     "end_time": "2021-08-04T12:00:06.353126Z",
     "start_time": "2021-08-04T12:00:06.287182Z"
    },
    "execution": {
     "iopub.execute_input": "2021-08-03T06:35:47.105411Z",
     "iopub.status.busy": "2021-08-03T06:35:47.105081Z",
     "iopub.status.idle": "2021-08-03T06:35:47.130254Z",
     "shell.execute_reply": "2021-08-03T06:35:47.129501Z",
     "shell.execute_reply.started": "2021-08-03T06:35:47.105382Z"
    }
   },
   "outputs": [
    {
     "data": {
      "text/html": [
       "<div>\n",
       "<style scoped>\n",
       "    .dataframe tbody tr th:only-of-type {\n",
       "        vertical-align: middle;\n",
       "    }\n",
       "\n",
       "    .dataframe tbody tr th {\n",
       "        vertical-align: top;\n",
       "    }\n",
       "\n",
       "    .dataframe thead th {\n",
       "        text-align: right;\n",
       "    }\n",
       "</style>\n",
       "<table border=\"1\" class=\"dataframe\">\n",
       "  <thead>\n",
       "    <tr style=\"text-align: right;\">\n",
       "      <th></th>\n",
       "      <th>Unnamed: 0</th>\n",
       "      <th>Ozone</th>\n",
       "      <th>Solar.R</th>\n",
       "      <th>Wind</th>\n",
       "      <th>Temp C</th>\n",
       "      <th>Month</th>\n",
       "      <th>Day</th>\n",
       "      <th>Year</th>\n",
       "      <th>Temp</th>\n",
       "      <th>Weather</th>\n",
       "    </tr>\n",
       "  </thead>\n",
       "  <tbody>\n",
       "    <tr>\n",
       "      <th>148</th>\n",
       "      <td>149</td>\n",
       "      <td>30.0</td>\n",
       "      <td>193.0</td>\n",
       "      <td>6.9</td>\n",
       "      <td>70</td>\n",
       "      <td>9</td>\n",
       "      <td>26</td>\n",
       "      <td>2010</td>\n",
       "      <td>70</td>\n",
       "      <td>C</td>\n",
       "    </tr>\n",
       "    <tr>\n",
       "      <th>149</th>\n",
       "      <td>150</td>\n",
       "      <td>NaN</td>\n",
       "      <td>145.0</td>\n",
       "      <td>13.2</td>\n",
       "      <td>77</td>\n",
       "      <td>9</td>\n",
       "      <td>27</td>\n",
       "      <td>2010</td>\n",
       "      <td>77</td>\n",
       "      <td>PS</td>\n",
       "    </tr>\n",
       "    <tr>\n",
       "      <th>150</th>\n",
       "      <td>151</td>\n",
       "      <td>14.0</td>\n",
       "      <td>191.0</td>\n",
       "      <td>14.3</td>\n",
       "      <td>75</td>\n",
       "      <td>9</td>\n",
       "      <td>28</td>\n",
       "      <td>2010</td>\n",
       "      <td>75</td>\n",
       "      <td>S</td>\n",
       "    </tr>\n",
       "    <tr>\n",
       "      <th>151</th>\n",
       "      <td>152</td>\n",
       "      <td>18.0</td>\n",
       "      <td>131.0</td>\n",
       "      <td>8.0</td>\n",
       "      <td>76</td>\n",
       "      <td>9</td>\n",
       "      <td>29</td>\n",
       "      <td>2010</td>\n",
       "      <td>76</td>\n",
       "      <td>PS</td>\n",
       "    </tr>\n",
       "    <tr>\n",
       "      <th>152</th>\n",
       "      <td>153</td>\n",
       "      <td>20.0</td>\n",
       "      <td>223.0</td>\n",
       "      <td>11.5</td>\n",
       "      <td>68</td>\n",
       "      <td>9</td>\n",
       "      <td>30</td>\n",
       "      <td>2010</td>\n",
       "      <td>68</td>\n",
       "      <td>S</td>\n",
       "    </tr>\n",
       "    <tr>\n",
       "      <th>153</th>\n",
       "      <td>154</td>\n",
       "      <td>41.0</td>\n",
       "      <td>190.0</td>\n",
       "      <td>7.4</td>\n",
       "      <td>67</td>\n",
       "      <td>5</td>\n",
       "      <td>1</td>\n",
       "      <td>2010</td>\n",
       "      <td>67</td>\n",
       "      <td>C</td>\n",
       "    </tr>\n",
       "    <tr>\n",
       "      <th>154</th>\n",
       "      <td>155</td>\n",
       "      <td>30.0</td>\n",
       "      <td>193.0</td>\n",
       "      <td>6.9</td>\n",
       "      <td>70</td>\n",
       "      <td>9</td>\n",
       "      <td>26</td>\n",
       "      <td>2010</td>\n",
       "      <td>70</td>\n",
       "      <td>PS</td>\n",
       "    </tr>\n",
       "    <tr>\n",
       "      <th>155</th>\n",
       "      <td>156</td>\n",
       "      <td>NaN</td>\n",
       "      <td>145.0</td>\n",
       "      <td>13.2</td>\n",
       "      <td>77</td>\n",
       "      <td>9</td>\n",
       "      <td>27</td>\n",
       "      <td>2010</td>\n",
       "      <td>77</td>\n",
       "      <td>S</td>\n",
       "    </tr>\n",
       "    <tr>\n",
       "      <th>156</th>\n",
       "      <td>157</td>\n",
       "      <td>14.0</td>\n",
       "      <td>191.0</td>\n",
       "      <td>14.3</td>\n",
       "      <td>75</td>\n",
       "      <td>9</td>\n",
       "      <td>28</td>\n",
       "      <td>2010</td>\n",
       "      <td>75</td>\n",
       "      <td>S</td>\n",
       "    </tr>\n",
       "    <tr>\n",
       "      <th>157</th>\n",
       "      <td>158</td>\n",
       "      <td>18.0</td>\n",
       "      <td>131.0</td>\n",
       "      <td>8.0</td>\n",
       "      <td>76</td>\n",
       "      <td>9</td>\n",
       "      <td>29</td>\n",
       "      <td>2010</td>\n",
       "      <td>76</td>\n",
       "      <td>C</td>\n",
       "    </tr>\n",
       "  </tbody>\n",
       "</table>\n",
       "</div>"
      ],
      "text/plain": [
       "     Unnamed: 0  Ozone  Solar.R  Wind Temp C Month  Day  Year  Temp Weather\n",
       "148         149   30.0    193.0   6.9     70     9   26  2010    70       C\n",
       "149         150    NaN    145.0  13.2     77     9   27  2010    77      PS\n",
       "150         151   14.0    191.0  14.3     75     9   28  2010    75       S\n",
       "151         152   18.0    131.0   8.0     76     9   29  2010    76      PS\n",
       "152         153   20.0    223.0  11.5     68     9   30  2010    68       S\n",
       "153         154   41.0    190.0   7.4     67     5    1  2010    67       C\n",
       "154         155   30.0    193.0   6.9     70     9   26  2010    70      PS\n",
       "155         156    NaN    145.0  13.2     77     9   27  2010    77       S\n",
       "156         157   14.0    191.0  14.3     75     9   28  2010    75       S\n",
       "157         158   18.0    131.0   8.0     76     9   29  2010    76       C"
      ]
     },
     "execution_count": 11,
     "metadata": {},
     "output_type": "execute_result"
    }
   ],
   "source": [
    "data1.tail(10)"
   ]
  },
  {
   "cell_type": "code",
   "execution_count": 12,
   "metadata": {
    "ExecuteTime": {
     "end_time": "2021-08-04T12:00:23.447574Z",
     "start_time": "2021-08-04T12:00:23.398603Z"
    },
    "execution": {
     "iopub.execute_input": "2021-08-03T06:35:47.133613Z",
     "iopub.status.busy": "2021-08-03T06:35:47.133300Z",
     "iopub.status.idle": "2021-08-03T06:35:47.158237Z",
     "shell.execute_reply": "2021-08-03T06:35:47.157154Z",
     "shell.execute_reply.started": "2021-08-03T06:35:47.133584Z"
    }
   },
   "outputs": [
    {
     "data": {
      "text/html": [
       "<div>\n",
       "<style scoped>\n",
       "    .dataframe tbody tr th:only-of-type {\n",
       "        vertical-align: middle;\n",
       "    }\n",
       "\n",
       "    .dataframe tbody tr th {\n",
       "        vertical-align: top;\n",
       "    }\n",
       "\n",
       "    .dataframe thead th {\n",
       "        text-align: right;\n",
       "    }\n",
       "</style>\n",
       "<table border=\"1\" class=\"dataframe\">\n",
       "  <thead>\n",
       "    <tr style=\"text-align: right;\">\n",
       "      <th></th>\n",
       "      <th>Unnamed: 0</th>\n",
       "      <th>Ozone</th>\n",
       "      <th>Solar.R</th>\n",
       "      <th>Wind</th>\n",
       "      <th>Temp C</th>\n",
       "      <th>Month</th>\n",
       "      <th>Day</th>\n",
       "      <th>Year</th>\n",
       "      <th>Temp</th>\n",
       "      <th>Weather</th>\n",
       "    </tr>\n",
       "  </thead>\n",
       "  <tbody>\n",
       "    <tr>\n",
       "      <th>0</th>\n",
       "      <td>1</td>\n",
       "      <td>41.0</td>\n",
       "      <td>190.0</td>\n",
       "      <td>7.4</td>\n",
       "      <td>67</td>\n",
       "      <td>5</td>\n",
       "      <td>1</td>\n",
       "      <td>2010</td>\n",
       "      <td>67</td>\n",
       "      <td>S</td>\n",
       "    </tr>\n",
       "    <tr>\n",
       "      <th>1</th>\n",
       "      <td>2</td>\n",
       "      <td>36.0</td>\n",
       "      <td>118.0</td>\n",
       "      <td>8.0</td>\n",
       "      <td>72</td>\n",
       "      <td>5</td>\n",
       "      <td>2</td>\n",
       "      <td>2010</td>\n",
       "      <td>72</td>\n",
       "      <td>C</td>\n",
       "    </tr>\n",
       "    <tr>\n",
       "      <th>2</th>\n",
       "      <td>3</td>\n",
       "      <td>12.0</td>\n",
       "      <td>149.0</td>\n",
       "      <td>12.6</td>\n",
       "      <td>74</td>\n",
       "      <td>5</td>\n",
       "      <td>3</td>\n",
       "      <td>2010</td>\n",
       "      <td>74</td>\n",
       "      <td>PS</td>\n",
       "    </tr>\n",
       "    <tr>\n",
       "      <th>3</th>\n",
       "      <td>4</td>\n",
       "      <td>18.0</td>\n",
       "      <td>313.0</td>\n",
       "      <td>11.5</td>\n",
       "      <td>62</td>\n",
       "      <td>5</td>\n",
       "      <td>4</td>\n",
       "      <td>2010</td>\n",
       "      <td>62</td>\n",
       "      <td>S</td>\n",
       "    </tr>\n",
       "    <tr>\n",
       "      <th>4</th>\n",
       "      <td>5</td>\n",
       "      <td>NaN</td>\n",
       "      <td>NaN</td>\n",
       "      <td>14.3</td>\n",
       "      <td>56</td>\n",
       "      <td>5</td>\n",
       "      <td>5</td>\n",
       "      <td>2010</td>\n",
       "      <td>56</td>\n",
       "      <td>S</td>\n",
       "    </tr>\n",
       "    <tr>\n",
       "      <th>...</th>\n",
       "      <td>...</td>\n",
       "      <td>...</td>\n",
       "      <td>...</td>\n",
       "      <td>...</td>\n",
       "      <td>...</td>\n",
       "      <td>...</td>\n",
       "      <td>...</td>\n",
       "      <td>...</td>\n",
       "      <td>...</td>\n",
       "      <td>...</td>\n",
       "    </tr>\n",
       "    <tr>\n",
       "      <th>153</th>\n",
       "      <td>154</td>\n",
       "      <td>41.0</td>\n",
       "      <td>190.0</td>\n",
       "      <td>7.4</td>\n",
       "      <td>67</td>\n",
       "      <td>5</td>\n",
       "      <td>1</td>\n",
       "      <td>2010</td>\n",
       "      <td>67</td>\n",
       "      <td>C</td>\n",
       "    </tr>\n",
       "    <tr>\n",
       "      <th>154</th>\n",
       "      <td>155</td>\n",
       "      <td>30.0</td>\n",
       "      <td>193.0</td>\n",
       "      <td>6.9</td>\n",
       "      <td>70</td>\n",
       "      <td>9</td>\n",
       "      <td>26</td>\n",
       "      <td>2010</td>\n",
       "      <td>70</td>\n",
       "      <td>PS</td>\n",
       "    </tr>\n",
       "    <tr>\n",
       "      <th>155</th>\n",
       "      <td>156</td>\n",
       "      <td>NaN</td>\n",
       "      <td>145.0</td>\n",
       "      <td>13.2</td>\n",
       "      <td>77</td>\n",
       "      <td>9</td>\n",
       "      <td>27</td>\n",
       "      <td>2010</td>\n",
       "      <td>77</td>\n",
       "      <td>S</td>\n",
       "    </tr>\n",
       "    <tr>\n",
       "      <th>156</th>\n",
       "      <td>157</td>\n",
       "      <td>14.0</td>\n",
       "      <td>191.0</td>\n",
       "      <td>14.3</td>\n",
       "      <td>75</td>\n",
       "      <td>9</td>\n",
       "      <td>28</td>\n",
       "      <td>2010</td>\n",
       "      <td>75</td>\n",
       "      <td>S</td>\n",
       "    </tr>\n",
       "    <tr>\n",
       "      <th>157</th>\n",
       "      <td>158</td>\n",
       "      <td>18.0</td>\n",
       "      <td>131.0</td>\n",
       "      <td>8.0</td>\n",
       "      <td>76</td>\n",
       "      <td>9</td>\n",
       "      <td>29</td>\n",
       "      <td>2010</td>\n",
       "      <td>76</td>\n",
       "      <td>C</td>\n",
       "    </tr>\n",
       "  </tbody>\n",
       "</table>\n",
       "<p>158 rows × 10 columns</p>\n",
       "</div>"
      ],
      "text/plain": [
       "     Unnamed: 0  Ozone  Solar.R  Wind Temp C Month  Day  Year  Temp Weather\n",
       "0             1   41.0    190.0   7.4     67     5    1  2010    67       S\n",
       "1             2   36.0    118.0   8.0     72     5    2  2010    72       C\n",
       "2             3   12.0    149.0  12.6     74     5    3  2010    74      PS\n",
       "3             4   18.0    313.0  11.5     62     5    4  2010    62       S\n",
       "4             5    NaN      NaN  14.3     56     5    5  2010    56       S\n",
       "..          ...    ...      ...   ...    ...   ...  ...   ...   ...     ...\n",
       "153         154   41.0    190.0   7.4     67     5    1  2010    67       C\n",
       "154         155   30.0    193.0   6.9     70     9   26  2010    70      PS\n",
       "155         156    NaN    145.0  13.2     77     9   27  2010    77       S\n",
       "156         157   14.0    191.0  14.3     75     9   28  2010    75       S\n",
       "157         158   18.0    131.0   8.0     76     9   29  2010    76       C\n",
       "\n",
       "[158 rows x 10 columns]"
      ]
     },
     "execution_count": 12,
     "metadata": {},
     "output_type": "execute_result"
    }
   ],
   "source": [
    "data1"
   ]
  },
  {
   "cell_type": "code",
   "execution_count": 13,
   "metadata": {
    "ExecuteTime": {
     "end_time": "2021-08-04T12:00:40.959613Z",
     "start_time": "2021-08-04T12:00:40.951616Z"
    },
    "execution": {
     "iopub.execute_input": "2021-08-03T06:35:47.161544Z",
     "iopub.status.busy": "2021-08-03T06:35:47.161152Z",
     "iopub.status.idle": "2021-08-03T06:35:47.169177Z",
     "shell.execute_reply": "2021-08-03T06:35:47.168122Z",
     "shell.execute_reply.started": "2021-08-03T06:35:47.161487Z"
    }
   },
   "outputs": [
    {
     "data": {
      "text/plain": [
       "(158, 10)"
      ]
     },
     "execution_count": 13,
     "metadata": {},
     "output_type": "execute_result"
    }
   ],
   "source": [
    "#Data Structure \n",
    "type(data1)\n",
    "data1.shape"
   ]
  },
  {
   "cell_type": "code",
   "execution_count": 14,
   "metadata": {
    "ExecuteTime": {
     "end_time": "2021-08-04T12:00:49.747911Z",
     "start_time": "2021-08-04T12:00:49.736919Z"
    },
    "execution": {
     "iopub.execute_input": "2021-08-03T06:35:47.170879Z",
     "iopub.status.busy": "2021-08-03T06:35:47.170526Z",
     "iopub.status.idle": "2021-08-03T06:35:47.181269Z",
     "shell.execute_reply": "2021-08-03T06:35:47.180293Z",
     "shell.execute_reply.started": "2021-08-03T06:35:47.170810Z"
    }
   },
   "outputs": [
    {
     "data": {
      "text/plain": [
       "Unnamed: 0      int64\n",
       "Ozone         float64\n",
       "Solar.R       float64\n",
       "Wind          float64\n",
       "Temp C         object\n",
       "Month          object\n",
       "Day             int64\n",
       "Year            int64\n",
       "Temp            int64\n",
       "Weather        object\n",
       "dtype: object"
      ]
     },
     "execution_count": 14,
     "metadata": {},
     "output_type": "execute_result"
    }
   ],
   "source": [
    "#data types\n",
    "data1.dtypes"
   ]
  },
  {
   "cell_type": "markdown",
   "metadata": {},
   "source": [
    "# Data type conversion"
   ]
  },
  {
   "cell_type": "code",
   "execution_count": 15,
   "metadata": {
    "ExecuteTime": {
     "end_time": "2021-08-04T12:01:09.857653Z",
     "start_time": "2021-08-04T12:01:08.894595Z"
    },
    "execution": {
     "iopub.execute_input": "2021-08-03T06:35:47.183025Z",
     "iopub.status.busy": "2021-08-03T06:35:47.182671Z",
     "iopub.status.idle": "2021-08-03T06:35:47.202897Z",
     "shell.execute_reply": "2021-08-03T06:35:47.202027Z",
     "shell.execute_reply.started": "2021-08-03T06:35:47.182998Z"
    }
   },
   "outputs": [
    {
     "name": "stdout",
     "output_type": "stream",
     "text": [
      "<class 'pandas.core.frame.DataFrame'>\n",
      "RangeIndex: 158 entries, 0 to 157\n",
      "Data columns (total 10 columns):\n",
      " #   Column      Non-Null Count  Dtype  \n",
      "---  ------      --------------  -----  \n",
      " 0   Unnamed: 0  158 non-null    int64  \n",
      " 1   Ozone       120 non-null    float64\n",
      " 2   Solar.R     151 non-null    float64\n",
      " 3   Wind        158 non-null    float64\n",
      " 4   Temp C      158 non-null    object \n",
      " 5   Month       158 non-null    object \n",
      " 6   Day         158 non-null    int64  \n",
      " 7   Year        158 non-null    int64  \n",
      " 8   Temp        158 non-null    int64  \n",
      " 9   Weather     155 non-null    object \n",
      "dtypes: float64(3), int64(4), object(3)\n",
      "memory usage: 12.5+ KB\n"
     ]
    }
   ],
   "source": [
    "data1.info()"
   ]
  },
  {
   "cell_type": "code",
   "execution_count": 16,
   "metadata": {
    "ExecuteTime": {
     "end_time": "2021-08-04T12:01:31.556516Z",
     "start_time": "2021-08-04T12:01:31.119631Z"
    },
    "execution": {
     "iopub.execute_input": "2021-08-03T06:35:47.204655Z",
     "iopub.status.busy": "2021-08-03T06:35:47.204334Z",
     "iopub.status.idle": "2021-08-03T06:35:47.213970Z",
     "shell.execute_reply": "2021-08-03T06:35:47.213097Z",
     "shell.execute_reply.started": "2021-08-03T06:35:47.204628Z"
    }
   },
   "outputs": [],
   "source": [
    "data2=data1.iloc[:,1:]"
   ]
  },
  {
   "cell_type": "code",
   "execution_count": 19,
   "metadata": {
    "ExecuteTime": {
     "end_time": "2021-08-04T12:06:38.221299Z",
     "start_time": "2021-08-04T12:06:38.215302Z"
    },
    "execution": {
     "iopub.execute_input": "2021-08-03T06:35:47.215815Z",
     "iopub.status.busy": "2021-08-03T06:35:47.215511Z",
     "iopub.status.idle": "2021-08-03T06:35:47.225046Z",
     "shell.execute_reply": "2021-08-03T06:35:47.224032Z",
     "shell.execute_reply.started": "2021-08-03T06:35:47.215788Z"
    }
   },
   "outputs": [],
   "source": [
    "#The method .copy() is used here so that any changes made in new DataFrame don't get reflected in the original one\n",
    "data=data2.copy()"
   ]
  },
  {
   "cell_type": "code",
   "execution_count": 20,
   "metadata": {
    "ExecuteTime": {
     "end_time": "2021-08-04T12:06:39.542447Z",
     "start_time": "2021-08-04T12:06:39.454870Z"
    },
    "execution": {
     "iopub.execute_input": "2021-08-03T06:35:47.226509Z",
     "iopub.status.busy": "2021-08-03T06:35:47.226174Z",
     "iopub.status.idle": "2021-08-03T06:35:47.237517Z",
     "shell.execute_reply": "2021-08-03T06:35:47.236711Z",
     "shell.execute_reply.started": "2021-08-03T06:35:47.226479Z"
    }
   },
   "outputs": [],
   "source": [
    "data['Month']=pd.to_numeric(data['Month'],errors='coerce')\n",
    "data['Temp C']=pd.to_numeric(data['Temp C'],errors='coerce')\n",
    "data['Weather']=data['Weather'].astype('category') \n",
    "#data['Wind']=data['Wind'].astype('int64')\n",
    "# coerce will introduce NA values for non numeric data in the columns"
   ]
  },
  {
   "cell_type": "code",
   "execution_count": 21,
   "metadata": {
    "ExecuteTime": {
     "end_time": "2021-08-04T12:06:43.883664Z",
     "start_time": "2021-08-04T12:06:43.571614Z"
    },
    "execution": {
     "iopub.execute_input": "2021-08-03T06:35:47.239658Z",
     "iopub.status.busy": "2021-08-03T06:35:47.239346Z",
     "iopub.status.idle": "2021-08-03T06:35:47.256635Z",
     "shell.execute_reply": "2021-08-03T06:35:47.255517Z",
     "shell.execute_reply.started": "2021-08-03T06:35:47.239630Z"
    }
   },
   "outputs": [
    {
     "name": "stdout",
     "output_type": "stream",
     "text": [
      "<class 'pandas.core.frame.DataFrame'>\n",
      "RangeIndex: 158 entries, 0 to 157\n",
      "Data columns (total 9 columns):\n",
      " #   Column   Non-Null Count  Dtype   \n",
      "---  ------   --------------  -----   \n",
      " 0   Ozone    120 non-null    float64 \n",
      " 1   Solar.R  151 non-null    float64 \n",
      " 2   Wind     158 non-null    float64 \n",
      " 3   Temp C   157 non-null    float64 \n",
      " 4   Month    157 non-null    float64 \n",
      " 5   Day      158 non-null    int64   \n",
      " 6   Year     158 non-null    int64   \n",
      " 7   Temp     158 non-null    int64   \n",
      " 8   Weather  155 non-null    category\n",
      "dtypes: category(1), float64(5), int64(3)\n",
      "memory usage: 10.3 KB\n"
     ]
    }
   ],
   "source": [
    "data.info()"
   ]
  },
  {
   "cell_type": "markdown",
   "metadata": {},
   "source": [
    "# Duplicates"
   ]
  },
  {
   "cell_type": "code",
   "execution_count": 22,
   "metadata": {
    "ExecuteTime": {
     "end_time": "2021-08-04T12:09:06.699582Z",
     "start_time": "2021-08-04T12:09:05.975659Z"
    },
    "execution": {
     "iopub.execute_input": "2021-08-03T06:35:47.258367Z",
     "iopub.status.busy": "2021-08-03T06:35:47.257945Z",
     "iopub.status.idle": "2021-08-03T06:35:47.272362Z",
     "shell.execute_reply": "2021-08-03T06:35:47.271508Z",
     "shell.execute_reply.started": "2021-08-03T06:35:47.258324Z"
    }
   },
   "outputs": [
    {
     "data": {
      "text/plain": [
       "(1, 9)"
      ]
     },
     "execution_count": 22,
     "metadata": {},
     "output_type": "execute_result"
    }
   ],
   "source": [
    "#Count of duplicated rows\n",
    "data[data.duplicated()].shape"
   ]
  },
  {
   "cell_type": "code",
   "execution_count": 23,
   "metadata": {
    "ExecuteTime": {
     "end_time": "2021-08-04T12:09:13.712637Z",
     "start_time": "2021-08-04T12:09:13.662671Z"
    },
    "execution": {
     "iopub.execute_input": "2021-08-03T06:35:47.274097Z",
     "iopub.status.busy": "2021-08-03T06:35:47.273667Z",
     "iopub.status.idle": "2021-08-03T06:35:47.297456Z",
     "shell.execute_reply": "2021-08-03T06:35:47.296638Z",
     "shell.execute_reply.started": "2021-08-03T06:35:47.274067Z"
    }
   },
   "outputs": [
    {
     "data": {
      "text/html": [
       "<div>\n",
       "<style scoped>\n",
       "    .dataframe tbody tr th:only-of-type {\n",
       "        vertical-align: middle;\n",
       "    }\n",
       "\n",
       "    .dataframe tbody tr th {\n",
       "        vertical-align: top;\n",
       "    }\n",
       "\n",
       "    .dataframe thead th {\n",
       "        text-align: right;\n",
       "    }\n",
       "</style>\n",
       "<table border=\"1\" class=\"dataframe\">\n",
       "  <thead>\n",
       "    <tr style=\"text-align: right;\">\n",
       "      <th></th>\n",
       "      <th>Ozone</th>\n",
       "      <th>Solar.R</th>\n",
       "      <th>Wind</th>\n",
       "      <th>Temp C</th>\n",
       "      <th>Month</th>\n",
       "      <th>Day</th>\n",
       "      <th>Year</th>\n",
       "      <th>Temp</th>\n",
       "      <th>Weather</th>\n",
       "    </tr>\n",
       "  </thead>\n",
       "  <tbody>\n",
       "    <tr>\n",
       "      <th>0</th>\n",
       "      <td>41.0</td>\n",
       "      <td>190.0</td>\n",
       "      <td>7.4</td>\n",
       "      <td>67.0</td>\n",
       "      <td>5.0</td>\n",
       "      <td>1</td>\n",
       "      <td>2010</td>\n",
       "      <td>67</td>\n",
       "      <td>S</td>\n",
       "    </tr>\n",
       "    <tr>\n",
       "      <th>1</th>\n",
       "      <td>36.0</td>\n",
       "      <td>118.0</td>\n",
       "      <td>8.0</td>\n",
       "      <td>72.0</td>\n",
       "      <td>5.0</td>\n",
       "      <td>2</td>\n",
       "      <td>2010</td>\n",
       "      <td>72</td>\n",
       "      <td>C</td>\n",
       "    </tr>\n",
       "    <tr>\n",
       "      <th>2</th>\n",
       "      <td>12.0</td>\n",
       "      <td>149.0</td>\n",
       "      <td>12.6</td>\n",
       "      <td>74.0</td>\n",
       "      <td>5.0</td>\n",
       "      <td>3</td>\n",
       "      <td>2010</td>\n",
       "      <td>74</td>\n",
       "      <td>PS</td>\n",
       "    </tr>\n",
       "    <tr>\n",
       "      <th>3</th>\n",
       "      <td>18.0</td>\n",
       "      <td>313.0</td>\n",
       "      <td>11.5</td>\n",
       "      <td>62.0</td>\n",
       "      <td>5.0</td>\n",
       "      <td>4</td>\n",
       "      <td>2010</td>\n",
       "      <td>62</td>\n",
       "      <td>S</td>\n",
       "    </tr>\n",
       "    <tr>\n",
       "      <th>4</th>\n",
       "      <td>NaN</td>\n",
       "      <td>NaN</td>\n",
       "      <td>14.3</td>\n",
       "      <td>56.0</td>\n",
       "      <td>5.0</td>\n",
       "      <td>5</td>\n",
       "      <td>2010</td>\n",
       "      <td>56</td>\n",
       "      <td>S</td>\n",
       "    </tr>\n",
       "    <tr>\n",
       "      <th>...</th>\n",
       "      <td>...</td>\n",
       "      <td>...</td>\n",
       "      <td>...</td>\n",
       "      <td>...</td>\n",
       "      <td>...</td>\n",
       "      <td>...</td>\n",
       "      <td>...</td>\n",
       "      <td>...</td>\n",
       "      <td>...</td>\n",
       "    </tr>\n",
       "    <tr>\n",
       "      <th>153</th>\n",
       "      <td>41.0</td>\n",
       "      <td>190.0</td>\n",
       "      <td>7.4</td>\n",
       "      <td>67.0</td>\n",
       "      <td>5.0</td>\n",
       "      <td>1</td>\n",
       "      <td>2010</td>\n",
       "      <td>67</td>\n",
       "      <td>C</td>\n",
       "    </tr>\n",
       "    <tr>\n",
       "      <th>154</th>\n",
       "      <td>30.0</td>\n",
       "      <td>193.0</td>\n",
       "      <td>6.9</td>\n",
       "      <td>70.0</td>\n",
       "      <td>9.0</td>\n",
       "      <td>26</td>\n",
       "      <td>2010</td>\n",
       "      <td>70</td>\n",
       "      <td>PS</td>\n",
       "    </tr>\n",
       "    <tr>\n",
       "      <th>155</th>\n",
       "      <td>NaN</td>\n",
       "      <td>145.0</td>\n",
       "      <td>13.2</td>\n",
       "      <td>77.0</td>\n",
       "      <td>9.0</td>\n",
       "      <td>27</td>\n",
       "      <td>2010</td>\n",
       "      <td>77</td>\n",
       "      <td>S</td>\n",
       "    </tr>\n",
       "    <tr>\n",
       "      <th>156</th>\n",
       "      <td>14.0</td>\n",
       "      <td>191.0</td>\n",
       "      <td>14.3</td>\n",
       "      <td>75.0</td>\n",
       "      <td>9.0</td>\n",
       "      <td>28</td>\n",
       "      <td>2010</td>\n",
       "      <td>75</td>\n",
       "      <td>S</td>\n",
       "    </tr>\n",
       "    <tr>\n",
       "      <th>157</th>\n",
       "      <td>18.0</td>\n",
       "      <td>131.0</td>\n",
       "      <td>8.0</td>\n",
       "      <td>76.0</td>\n",
       "      <td>9.0</td>\n",
       "      <td>29</td>\n",
       "      <td>2010</td>\n",
       "      <td>76</td>\n",
       "      <td>C</td>\n",
       "    </tr>\n",
       "  </tbody>\n",
       "</table>\n",
       "<p>158 rows × 9 columns</p>\n",
       "</div>"
      ],
      "text/plain": [
       "     Ozone  Solar.R  Wind  Temp C  Month  Day  Year  Temp Weather\n",
       "0     41.0    190.0   7.4    67.0    5.0    1  2010    67       S\n",
       "1     36.0    118.0   8.0    72.0    5.0    2  2010    72       C\n",
       "2     12.0    149.0  12.6    74.0    5.0    3  2010    74      PS\n",
       "3     18.0    313.0  11.5    62.0    5.0    4  2010    62       S\n",
       "4      NaN      NaN  14.3    56.0    5.0    5  2010    56       S\n",
       "..     ...      ...   ...     ...    ...  ...   ...   ...     ...\n",
       "153   41.0    190.0   7.4    67.0    5.0    1  2010    67       C\n",
       "154   30.0    193.0   6.9    70.0    9.0   26  2010    70      PS\n",
       "155    NaN    145.0  13.2    77.0    9.0   27  2010    77       S\n",
       "156   14.0    191.0  14.3    75.0    9.0   28  2010    75       S\n",
       "157   18.0    131.0   8.0    76.0    9.0   29  2010    76       C\n",
       "\n",
       "[158 rows x 9 columns]"
      ]
     },
     "execution_count": 23,
     "metadata": {},
     "output_type": "execute_result"
    }
   ],
   "source": [
    "data"
   ]
  },
  {
   "cell_type": "code",
   "execution_count": 24,
   "metadata": {
    "ExecuteTime": {
     "end_time": "2021-08-04T12:09:55.265424Z",
     "start_time": "2021-08-04T12:09:55.233442Z"
    },
    "execution": {
     "iopub.execute_input": "2021-08-03T06:35:47.298891Z",
     "iopub.status.busy": "2021-08-03T06:35:47.298618Z",
     "iopub.status.idle": "2021-08-03T06:35:47.315911Z",
     "shell.execute_reply": "2021-08-03T06:35:47.314940Z",
     "shell.execute_reply.started": "2021-08-03T06:35:47.298865Z"
    }
   },
   "outputs": [
    {
     "data": {
      "text/html": [
       "<div>\n",
       "<style scoped>\n",
       "    .dataframe tbody tr th:only-of-type {\n",
       "        vertical-align: middle;\n",
       "    }\n",
       "\n",
       "    .dataframe tbody tr th {\n",
       "        vertical-align: top;\n",
       "    }\n",
       "\n",
       "    .dataframe thead th {\n",
       "        text-align: right;\n",
       "    }\n",
       "</style>\n",
       "<table border=\"1\" class=\"dataframe\">\n",
       "  <thead>\n",
       "    <tr style=\"text-align: right;\">\n",
       "      <th></th>\n",
       "      <th>Ozone</th>\n",
       "      <th>Solar.R</th>\n",
       "      <th>Wind</th>\n",
       "      <th>Temp C</th>\n",
       "      <th>Month</th>\n",
       "      <th>Day</th>\n",
       "      <th>Year</th>\n",
       "      <th>Temp</th>\n",
       "      <th>Weather</th>\n",
       "    </tr>\n",
       "  </thead>\n",
       "  <tbody>\n",
       "    <tr>\n",
       "      <th>156</th>\n",
       "      <td>14.0</td>\n",
       "      <td>191.0</td>\n",
       "      <td>14.3</td>\n",
       "      <td>75.0</td>\n",
       "      <td>9.0</td>\n",
       "      <td>28</td>\n",
       "      <td>2010</td>\n",
       "      <td>75</td>\n",
       "      <td>S</td>\n",
       "    </tr>\n",
       "  </tbody>\n",
       "</table>\n",
       "</div>"
      ],
      "text/plain": [
       "     Ozone  Solar.R  Wind  Temp C  Month  Day  Year  Temp Weather\n",
       "156   14.0    191.0  14.3    75.0    9.0   28  2010    75       S"
      ]
     },
     "execution_count": 24,
     "metadata": {},
     "output_type": "execute_result"
    }
   ],
   "source": [
    "#Print the duplicated rows\n",
    "data[data.duplicated()]"
   ]
  },
  {
   "cell_type": "code",
   "execution_count": 38,
   "metadata": {
    "ExecuteTime": {
     "end_time": "2021-08-04T12:19:43.601685Z",
     "start_time": "2021-08-04T12:19:43.588695Z"
    },
    "execution": {
     "iopub.execute_input": "2021-08-03T06:35:47.317539Z",
     "iopub.status.busy": "2021-08-03T06:35:47.317207Z",
     "iopub.status.idle": "2021-08-03T06:35:47.326724Z",
     "shell.execute_reply": "2021-08-03T06:35:47.325770Z",
     "shell.execute_reply.started": "2021-08-03T06:35:47.317508Z"
    }
   },
   "outputs": [],
   "source": [
    "data1_cleaned1=data.drop_duplicates()"
   ]
  },
  {
   "cell_type": "code",
   "execution_count": 36,
   "metadata": {
    "ExecuteTime": {
     "end_time": "2021-08-04T12:18:37.046711Z",
     "start_time": "2021-08-04T12:18:37.038719Z"
    },
    "execution": {
     "iopub.execute_input": "2021-08-03T06:35:47.328828Z",
     "iopub.status.busy": "2021-08-03T06:35:47.328353Z",
     "iopub.status.idle": "2021-08-03T06:35:47.354162Z",
     "shell.execute_reply": "2021-08-03T06:35:47.353383Z",
     "shell.execute_reply.started": "2021-08-03T06:35:47.328787Z"
    }
   },
   "outputs": [
    {
     "data": {
      "text/plain": [
       "(157, 9)"
      ]
     },
     "execution_count": 36,
     "metadata": {},
     "output_type": "execute_result"
    }
   ],
   "source": [
    "data1_cleaned1.shape"
   ]
  },
  {
   "cell_type": "markdown",
   "metadata": {},
   "source": [
    "# Drop columns"
   ]
  },
  {
   "cell_type": "code",
   "execution_count": 37,
   "metadata": {
    "ExecuteTime": {
     "end_time": "2021-08-04T12:19:34.605754Z",
     "start_time": "2021-08-04T12:19:34.584748Z"
    },
    "execution": {
     "iopub.execute_input": "2021-08-03T06:35:47.355921Z",
     "iopub.status.busy": "2021-08-03T06:35:47.355532Z",
     "iopub.status.idle": "2021-08-03T06:35:47.362343Z",
     "shell.execute_reply": "2021-08-03T06:35:47.361355Z",
     "shell.execute_reply.started": "2021-08-03T06:35:47.355884Z"
    }
   },
   "outputs": [
    {
     "ename": "NameError",
     "evalue": "name 'data_cleaned1' is not defined",
     "output_type": "error",
     "traceback": [
      "\u001b[1;31m---------------------------------------------------------------------------\u001b[0m",
      "\u001b[1;31mNameError\u001b[0m                                 Traceback (most recent call last)",
      "\u001b[1;32m<ipython-input-37-b3a4afb3ec5c>\u001b[0m in \u001b[0;36m<module>\u001b[1;34m\u001b[0m\n\u001b[1;32m----> 1\u001b[1;33m \u001b[0mdata_cleaned2\u001b[0m\u001b[1;33m=\u001b[0m\u001b[0mdata_cleaned1\u001b[0m\u001b[1;33m.\u001b[0m\u001b[0mdrop\u001b[0m\u001b[1;33m(\u001b[0m\u001b[1;34m'Temp C'\u001b[0m\u001b[1;33m,\u001b[0m\u001b[0maxis\u001b[0m\u001b[1;33m=\u001b[0m\u001b[1;36m1\u001b[0m\u001b[1;33m)\u001b[0m\u001b[1;33m\u001b[0m\u001b[1;33m\u001b[0m\u001b[0m\n\u001b[0m",
      "\u001b[1;31mNameError\u001b[0m: name 'data_cleaned1' is not defined"
     ]
    }
   ],
   "source": [
    "data_cleaned2=data_cleaned1.drop('Temp C',axis=1)"
   ]
  },
  {
   "cell_type": "code",
   "execution_count": null,
   "metadata": {
    "ExecuteTime": {
     "end_time": "2021-08-04T11:11:13.084919Z",
     "start_time": "2021-08-04T11:08:08.096Z"
    },
    "execution": {
     "iopub.execute_input": "2021-08-03T06:35:47.364393Z",
     "iopub.status.busy": "2021-08-03T06:35:47.363976Z",
     "iopub.status.idle": "2021-08-03T06:35:47.386932Z",
     "shell.execute_reply": "2021-08-03T06:35:47.385955Z",
     "shell.execute_reply.started": "2021-08-03T06:35:47.364352Z"
    }
   },
   "outputs": [],
   "source": [
    "data_cleaned2"
   ]
  },
  {
   "cell_type": "markdown",
   "metadata": {},
   "source": [
    "# Rename the columns"
   ]
  },
  {
   "cell_type": "code",
   "execution_count": 29,
   "metadata": {
    "ExecuteTime": {
     "end_time": "2021-08-04T12:14:00.235585Z",
     "start_time": "2021-08-04T12:14:00.176623Z"
    },
    "execution": {
     "iopub.execute_input": "2021-08-03T06:35:47.389041Z",
     "iopub.status.busy": "2021-08-03T06:35:47.388633Z",
     "iopub.status.idle": "2021-08-03T06:35:47.397047Z",
     "shell.execute_reply": "2021-08-03T06:35:47.396213Z",
     "shell.execute_reply.started": "2021-08-03T06:35:47.389002Z"
    }
   },
   "outputs": [
    {
     "ename": "NameError",
     "evalue": "name 'data_cleaned2' is not defined",
     "output_type": "error",
     "traceback": [
      "\u001b[1;31m---------------------------------------------------------------------------\u001b[0m",
      "\u001b[1;31mNameError\u001b[0m                                 Traceback (most recent call last)",
      "\u001b[1;32m<ipython-input-29-0cb8ca429959>\u001b[0m in \u001b[0;36m<module>\u001b[1;34m\u001b[0m\n\u001b[0;32m      1\u001b[0m \u001b[1;31m#rename the Solar column\u001b[0m\u001b[1;33m\u001b[0m\u001b[1;33m\u001b[0m\u001b[1;33m\u001b[0m\u001b[0m\n\u001b[1;32m----> 2\u001b[1;33m \u001b[0mdata_cleaned3\u001b[0m \u001b[1;33m=\u001b[0m \u001b[0mdata_cleaned2\u001b[0m\u001b[1;33m.\u001b[0m\u001b[0mrename\u001b[0m\u001b[1;33m(\u001b[0m\u001b[1;33m{\u001b[0m\u001b[1;34m'Solar.R'\u001b[0m\u001b[1;33m:\u001b[0m \u001b[1;34m'Solar'\u001b[0m\u001b[1;33m}\u001b[0m\u001b[1;33m,\u001b[0m \u001b[0maxis\u001b[0m\u001b[1;33m=\u001b[0m\u001b[1;36m1\u001b[0m\u001b[1;33m)\u001b[0m\u001b[1;33m\u001b[0m\u001b[1;33m\u001b[0m\u001b[0m\n\u001b[0m",
      "\u001b[1;31mNameError\u001b[0m: name 'data_cleaned2' is not defined"
     ]
    }
   ],
   "source": [
    "#rename the Solar column\n",
    "data_cleaned3 = data_cleaned2.rename({'Solar.R': 'Solar'}, axis=1)"
   ]
  },
  {
   "cell_type": "code",
   "execution_count": 30,
   "metadata": {
    "ExecuteTime": {
     "end_time": "2021-08-04T12:14:33.932622Z",
     "start_time": "2021-08-04T12:14:33.911639Z"
    },
    "execution": {
     "iopub.execute_input": "2021-08-03T06:35:47.398846Z",
     "iopub.status.busy": "2021-08-03T06:35:47.398492Z",
     "iopub.status.idle": "2021-08-03T06:35:47.423129Z",
     "shell.execute_reply": "2021-08-03T06:35:47.422413Z",
     "shell.execute_reply.started": "2021-08-03T06:35:47.398797Z"
    }
   },
   "outputs": [
    {
     "ename": "NameError",
     "evalue": "name 'data_cleaned3' is not defined",
     "output_type": "error",
     "traceback": [
      "\u001b[1;31m---------------------------------------------------------------------------\u001b[0m",
      "\u001b[1;31mNameError\u001b[0m                                 Traceback (most recent call last)",
      "\u001b[1;32m<ipython-input-30-19171b98e326>\u001b[0m in \u001b[0;36m<module>\u001b[1;34m\u001b[0m\n\u001b[1;32m----> 1\u001b[1;33m \u001b[0mdata_cleaned3\u001b[0m\u001b[1;33m\u001b[0m\u001b[1;33m\u001b[0m\u001b[0m\n\u001b[0m",
      "\u001b[1;31mNameError\u001b[0m: name 'data_cleaned3' is not defined"
     ]
    }
   ],
   "source": [
    "data_cleaned3"
   ]
  },
  {
   "cell_type": "markdown",
   "metadata": {},
   "source": [
    "# Outlier Detection"
   ]
  },
  {
   "cell_type": "code",
   "execution_count": 31,
   "metadata": {
    "ExecuteTime": {
     "end_time": "2021-08-04T12:14:40.734445Z",
     "start_time": "2021-08-04T12:14:40.711456Z"
    },
    "execution": {
     "iopub.execute_input": "2021-08-03T06:35:47.424548Z",
     "iopub.status.busy": "2021-08-03T06:35:47.424151Z",
     "iopub.status.idle": "2021-08-03T06:35:47.639122Z",
     "shell.execute_reply": "2021-08-03T06:35:47.638216Z",
     "shell.execute_reply.started": "2021-08-03T06:35:47.424508Z"
    }
   },
   "outputs": [
    {
     "ename": "NameError",
     "evalue": "name 'data_cleaned3' is not defined",
     "output_type": "error",
     "traceback": [
      "\u001b[1;31m---------------------------------------------------------------------------\u001b[0m",
      "\u001b[1;31mNameError\u001b[0m                                 Traceback (most recent call last)",
      "\u001b[1;32m<ipython-input-31-521c6d0b90c3>\u001b[0m in \u001b[0;36m<module>\u001b[1;34m\u001b[0m\n\u001b[0;32m      1\u001b[0m \u001b[1;31m# histogram of Ozone\u001b[0m\u001b[1;33m\u001b[0m\u001b[1;33m\u001b[0m\u001b[1;33m\u001b[0m\u001b[0m\n\u001b[1;32m----> 2\u001b[1;33m \u001b[0mdata_cleaned3\u001b[0m\u001b[1;33m[\u001b[0m\u001b[1;34m'Ozone'\u001b[0m\u001b[1;33m]\u001b[0m\u001b[1;33m.\u001b[0m\u001b[0mhist\u001b[0m\u001b[1;33m(\u001b[0m\u001b[1;33m)\u001b[0m\u001b[1;33m\u001b[0m\u001b[1;33m\u001b[0m\u001b[0m\n\u001b[0m",
      "\u001b[1;31mNameError\u001b[0m: name 'data_cleaned3' is not defined"
     ]
    }
   ],
   "source": [
    "# histogram of Ozone\n",
    "data_cleaned3['Ozone'].hist()"
   ]
  },
  {
   "cell_type": "code",
   "execution_count": null,
   "metadata": {
    "ExecuteTime": {
     "end_time": "2021-08-04T11:11:13.096912Z",
     "start_time": "2021-08-04T11:08:09.885Z"
    },
    "execution": {
     "iopub.execute_input": "2021-08-03T06:35:47.641024Z",
     "iopub.status.busy": "2021-08-03T06:35:47.640624Z",
     "iopub.status.idle": "2021-08-03T06:35:47.767666Z",
     "shell.execute_reply": "2021-08-03T06:35:47.766713Z",
     "shell.execute_reply.started": "2021-08-03T06:35:47.640982Z"
    }
   },
   "outputs": [],
   "source": [
    "#Box plot\n",
    "data_cleaned3.boxplot(column=['Ozone'])"
   ]
  },
  {
   "cell_type": "code",
   "execution_count": null,
   "metadata": {
    "ExecuteTime": {
     "end_time": "2021-08-04T11:11:13.099911Z",
     "start_time": "2021-08-04T11:08:10.149Z"
    },
    "execution": {
     "iopub.execute_input": "2021-08-03T06:35:47.769467Z",
     "iopub.status.busy": "2021-08-03T06:35:47.769138Z",
     "iopub.status.idle": "2021-08-03T06:35:47.778105Z",
     "shell.execute_reply": "2021-08-03T06:35:47.777400Z",
     "shell.execute_reply.started": "2021-08-03T06:35:47.769438Z"
    }
   },
   "outputs": [],
   "source": [
    "#Descriptive stat\n",
    "data_cleaned3['Ozone'].describe()"
   ]
  },
  {
   "cell_type": "code",
   "execution_count": null,
   "metadata": {
    "ExecuteTime": {
     "end_time": "2021-08-04T11:11:13.102908Z",
     "start_time": "2021-08-04T11:08:10.365Z"
    },
    "execution": {
     "iopub.execute_input": "2021-08-03T06:35:47.779700Z",
     "iopub.status.busy": "2021-08-03T06:35:47.779227Z",
     "iopub.status.idle": "2021-08-03T06:35:47.805472Z",
     "shell.execute_reply": "2021-08-03T06:35:47.804602Z",
     "shell.execute_reply.started": "2021-08-03T06:35:47.779664Z"
    }
   },
   "outputs": [],
   "source": [
    "data_cleaned3"
   ]
  },
  {
   "cell_type": "code",
   "execution_count": null,
   "metadata": {
    "ExecuteTime": {
     "end_time": "2021-08-04T11:11:13.105906Z",
     "start_time": "2021-08-04T11:08:10.582Z"
    },
    "execution": {
     "iopub.execute_input": "2021-08-03T06:35:47.806972Z",
     "iopub.status.busy": "2021-08-03T06:35:47.806698Z",
     "iopub.status.idle": "2021-08-03T06:35:47.928981Z",
     "shell.execute_reply": "2021-08-03T06:35:47.927986Z",
     "shell.execute_reply.started": "2021-08-03T06:35:47.806946Z"
    }
   },
   "outputs": [],
   "source": [
    "#Bar plot\n",
    "data['Weather'].value_counts().plot.bar()"
   ]
  },
  {
   "cell_type": "markdown",
   "metadata": {},
   "source": [
    "# Missing Values and Imputation"
   ]
  },
  {
   "cell_type": "code",
   "execution_count": null,
   "metadata": {
    "ExecuteTime": {
     "end_time": "2021-08-04T11:11:13.108905Z",
     "start_time": "2021-08-04T11:08:11.013Z"
    },
    "execution": {
     "iopub.execute_input": "2021-08-03T06:35:47.930220Z",
     "iopub.status.busy": "2021-08-03T06:35:47.929949Z",
     "iopub.status.idle": "2021-08-03T06:35:48.467120Z",
     "shell.execute_reply": "2021-08-03T06:35:48.466161Z",
     "shell.execute_reply.started": "2021-08-03T06:35:47.930194Z"
    }
   },
   "outputs": [],
   "source": [
    "import seaborn as sns\n",
    "cols = data_cleaned3.columns \n",
    "colours = ['#000099', '#ffff00'] # specify the colours - yellow is missing. blue is not missing.\n",
    "sns.heatmap(data_cleaned3[cols].isnull(),\n",
    "            cmap=sns.color_palette(colours))"
   ]
  },
  {
   "cell_type": "code",
   "execution_count": null,
   "metadata": {
    "ExecuteTime": {
     "end_time": "2021-08-04T11:11:13.111902Z",
     "start_time": "2021-08-04T11:08:11.245Z"
    },
    "execution": {
     "iopub.execute_input": "2021-08-03T06:35:48.468623Z",
     "iopub.status.busy": "2021-08-03T06:35:48.468351Z",
     "iopub.status.idle": "2021-08-03T06:35:48.484614Z",
     "shell.execute_reply": "2021-08-03T06:35:48.483667Z",
     "shell.execute_reply.started": "2021-08-03T06:35:48.468596Z"
    }
   },
   "outputs": [],
   "source": [
    "data_cleaned3[data_cleaned3.isnull().any(axis=1)].head()"
   ]
  },
  {
   "cell_type": "code",
   "execution_count": null,
   "metadata": {
    "ExecuteTime": {
     "end_time": "2021-08-04T11:11:13.114902Z",
     "start_time": "2021-08-04T11:08:11.485Z"
    },
    "execution": {
     "iopub.execute_input": "2021-08-03T06:35:48.486448Z",
     "iopub.status.busy": "2021-08-03T06:35:48.486085Z",
     "iopub.status.idle": "2021-08-03T06:35:48.497946Z",
     "shell.execute_reply": "2021-08-03T06:35:48.496896Z",
     "shell.execute_reply.started": "2021-08-03T06:35:48.486415Z"
    }
   },
   "outputs": [],
   "source": [
    "data_cleaned3.isnull().sum()"
   ]
  },
  {
   "cell_type": "code",
   "execution_count": null,
   "metadata": {
    "ExecuteTime": {
     "end_time": "2021-08-04T11:11:13.117899Z",
     "start_time": "2021-08-04T11:08:11.701Z"
    },
    "execution": {
     "iopub.execute_input": "2021-08-03T06:35:48.499424Z",
     "iopub.status.busy": "2021-08-03T06:35:48.499125Z",
     "iopub.status.idle": "2021-08-03T06:35:48.508722Z",
     "shell.execute_reply": "2021-08-03T06:35:48.507556Z",
     "shell.execute_reply.started": "2021-08-03T06:35:48.499398Z"
    }
   },
   "outputs": [],
   "source": [
    "#Mean Imputation\n",
    "mean = data_cleaned3['Ozone'].mean()\n",
    "print(mean)"
   ]
  },
  {
   "cell_type": "code",
   "execution_count": null,
   "metadata": {
    "ExecuteTime": {
     "end_time": "2021-08-04T11:11:13.120898Z",
     "start_time": "2021-08-04T11:08:11.925Z"
    },
    "execution": {
     "iopub.execute_input": "2021-08-03T06:35:48.510152Z",
     "iopub.status.busy": "2021-08-03T06:35:48.509895Z",
     "iopub.status.idle": "2021-08-03T06:35:48.519631Z",
     "shell.execute_reply": "2021-08-03T06:35:48.518757Z",
     "shell.execute_reply.started": "2021-08-03T06:35:48.510126Z"
    }
   },
   "outputs": [],
   "source": [
    "data_cleaned3['Ozone'] = data_cleaned3['Ozone'].fillna(mean)"
   ]
  },
  {
   "cell_type": "code",
   "execution_count": null,
   "metadata": {
    "ExecuteTime": {
     "end_time": "2021-08-04T11:11:13.123897Z",
     "start_time": "2021-08-04T11:08:12.150Z"
    },
    "execution": {
     "iopub.execute_input": "2021-08-03T06:35:48.524896Z",
     "iopub.status.busy": "2021-08-03T06:35:48.524458Z",
     "iopub.status.idle": "2021-08-03T06:35:48.547019Z",
     "shell.execute_reply": "2021-08-03T06:35:48.546092Z",
     "shell.execute_reply.started": "2021-08-03T06:35:48.524867Z"
    }
   },
   "outputs": [],
   "source": [
    "data_cleaned3"
   ]
  },
  {
   "cell_type": "code",
   "execution_count": null,
   "metadata": {
    "ExecuteTime": {
     "end_time": "2021-08-04T11:11:13.127894Z",
     "start_time": "2021-08-04T11:08:12.373Z"
    },
    "execution": {
     "iopub.execute_input": "2021-08-03T06:35:48.548928Z",
     "iopub.status.busy": "2021-08-03T06:35:48.548609Z",
     "iopub.status.idle": "2021-08-03T06:35:48.557818Z",
     "shell.execute_reply": "2021-08-03T06:35:48.556861Z",
     "shell.execute_reply.started": "2021-08-03T06:35:48.548898Z"
    }
   },
   "outputs": [],
   "source": [
    "#Missing value imputation for categorical vlaue\n",
    "#Get the object columns\n",
    "obj_columns=data_cleaned3[['Weather']]"
   ]
  },
  {
   "cell_type": "code",
   "execution_count": null,
   "metadata": {
    "ExecuteTime": {
     "end_time": "2021-08-04T11:11:13.130894Z",
     "start_time": "2021-08-04T11:08:12.613Z"
    },
    "execution": {
     "iopub.execute_input": "2021-08-03T06:35:48.560690Z",
     "iopub.status.busy": "2021-08-03T06:35:48.560087Z",
     "iopub.status.idle": "2021-08-03T06:35:48.571376Z",
     "shell.execute_reply": "2021-08-03T06:35:48.570373Z",
     "shell.execute_reply.started": "2021-08-03T06:35:48.560649Z"
    }
   },
   "outputs": [],
   "source": [
    "obj_columns.isnull().sum()"
   ]
  },
  {
   "cell_type": "code",
   "execution_count": null,
   "metadata": {
    "ExecuteTime": {
     "end_time": "2021-08-04T11:11:13.132890Z",
     "start_time": "2021-08-04T11:08:12.845Z"
    },
    "execution": {
     "iopub.execute_input": "2021-08-03T06:35:48.572938Z",
     "iopub.status.busy": "2021-08-03T06:35:48.572624Z",
     "iopub.status.idle": "2021-08-03T06:35:48.588273Z",
     "shell.execute_reply": "2021-08-03T06:35:48.587420Z",
     "shell.execute_reply.started": "2021-08-03T06:35:48.572909Z"
    }
   },
   "outputs": [],
   "source": [
    "#Missing value imputation for categorical vlaue\n",
    "obj_columns=obj_columns.fillna(obj_columns.mode().iloc[0])"
   ]
  },
  {
   "cell_type": "code",
   "execution_count": null,
   "metadata": {
    "ExecuteTime": {
     "end_time": "2021-08-04T11:11:13.135889Z",
     "start_time": "2021-08-04T11:08:13.069Z"
    },
    "execution": {
     "iopub.execute_input": "2021-08-03T06:35:48.590118Z",
     "iopub.status.busy": "2021-08-03T06:35:48.589716Z",
     "iopub.status.idle": "2021-08-03T06:35:48.596485Z",
     "shell.execute_reply": "2021-08-03T06:35:48.595573Z",
     "shell.execute_reply.started": "2021-08-03T06:35:48.590077Z"
    }
   },
   "outputs": [],
   "source": [
    "data_cleaned3.shape"
   ]
  },
  {
   "cell_type": "code",
   "execution_count": null,
   "metadata": {
    "ExecuteTime": {
     "end_time": "2021-08-04T11:11:13.137887Z",
     "start_time": "2021-08-04T11:08:13.285Z"
    },
    "execution": {
     "iopub.execute_input": "2021-08-03T06:35:48.597928Z",
     "iopub.status.busy": "2021-08-03T06:35:48.597593Z",
     "iopub.status.idle": "2021-08-03T06:35:48.606593Z",
     "shell.execute_reply": "2021-08-03T06:35:48.605478Z",
     "shell.execute_reply.started": "2021-08-03T06:35:48.597900Z"
    }
   },
   "outputs": [],
   "source": [
    "obj_columns.shape"
   ]
  },
  {
   "cell_type": "code",
   "execution_count": null,
   "metadata": {
    "ExecuteTime": {
     "end_time": "2021-08-04T11:11:13.140886Z",
     "start_time": "2021-08-04T11:08:13.501Z"
    },
    "execution": {
     "iopub.execute_input": "2021-08-03T06:35:48.608653Z",
     "iopub.status.busy": "2021-08-03T06:35:48.608235Z",
     "iopub.status.idle": "2021-08-03T06:35:48.618011Z",
     "shell.execute_reply": "2021-08-03T06:35:48.617063Z",
     "shell.execute_reply.started": "2021-08-03T06:35:48.608613Z"
    }
   },
   "outputs": [],
   "source": [
    "#Join the data set with imputed object dataset\n",
    "data_cleaned4=pd.concat([data_cleaned3,obj_columns],axis=1)"
   ]
  },
  {
   "cell_type": "code",
   "execution_count": null,
   "metadata": {
    "ExecuteTime": {
     "end_time": "2021-08-04T11:11:13.142885Z",
     "start_time": "2021-08-04T11:08:13.726Z"
    },
    "execution": {
     "iopub.execute_input": "2021-08-03T06:35:48.620143Z",
     "iopub.status.busy": "2021-08-03T06:35:48.619583Z",
     "iopub.status.idle": "2021-08-03T06:35:48.646708Z",
     "shell.execute_reply": "2021-08-03T06:35:48.645636Z",
     "shell.execute_reply.started": "2021-08-03T06:35:48.620092Z"
    }
   },
   "outputs": [],
   "source": [
    "data_cleaned4"
   ]
  },
  {
   "cell_type": "markdown",
   "metadata": {},
   "source": [
    "# Scatter plot and Correlation analysis"
   ]
  },
  {
   "cell_type": "code",
   "execution_count": null,
   "metadata": {
    "ExecuteTime": {
     "end_time": "2021-08-04T11:11:13.144884Z",
     "start_time": "2021-08-04T11:08:14.165Z"
    },
    "execution": {
     "iopub.execute_input": "2021-08-03T06:35:48.648717Z",
     "iopub.status.busy": "2021-08-03T06:35:48.648291Z",
     "iopub.status.idle": "2021-08-03T06:36:01.459165Z",
     "shell.execute_reply": "2021-08-03T06:36:01.458433Z",
     "shell.execute_reply.started": "2021-08-03T06:35:48.648674Z"
    }
   },
   "outputs": [],
   "source": [
    "# Seaborn visualization library\n",
    "import seaborn as sns\n",
    "# Create the default pairplot\n",
    "sns.pairplot(data_cleaned3)"
   ]
  },
  {
   "cell_type": "code",
   "execution_count": null,
   "metadata": {
    "ExecuteTime": {
     "end_time": "2021-08-04T11:11:13.147881Z",
     "start_time": "2021-08-04T11:08:14.365Z"
    },
    "execution": {
     "iopub.execute_input": "2021-08-03T06:36:01.460604Z",
     "iopub.status.busy": "2021-08-03T06:36:01.460213Z",
     "iopub.status.idle": "2021-08-03T06:36:01.479548Z",
     "shell.execute_reply": "2021-08-03T06:36:01.478745Z",
     "shell.execute_reply.started": "2021-08-03T06:36:01.460575Z"
    }
   },
   "outputs": [],
   "source": [
    "#Correlation\n",
    "\n",
    "data_cleaned3.corr()\n"
   ]
  },
  {
   "cell_type": "markdown",
   "metadata": {},
   "source": [
    "# Transformations"
   ]
  },
  {
   "cell_type": "markdown",
   "metadata": {},
   "source": [
    "# Dummy Variable"
   ]
  },
  {
   "cell_type": "code",
   "execution_count": null,
   "metadata": {
    "ExecuteTime": {
     "end_time": "2021-08-04T11:11:13.149882Z",
     "start_time": "2021-08-04T11:08:15.053Z"
    },
    "execution": {
     "iopub.execute_input": "2021-08-03T06:36:01.480964Z",
     "iopub.status.busy": "2021-08-03T06:36:01.480648Z",
     "iopub.status.idle": "2021-08-03T06:36:01.489263Z",
     "shell.execute_reply": "2021-08-03T06:36:01.487971Z",
     "shell.execute_reply.started": "2021-08-03T06:36:01.480936Z"
    }
   },
   "outputs": [],
   "source": [
    "#Creating dummy variable for Weather column\n",
    "data_cleaned4=pd.get_dummies(data,columns=['Weather'])"
   ]
  },
  {
   "cell_type": "code",
   "execution_count": null,
   "metadata": {
    "ExecuteTime": {
     "end_time": "2021-08-04T11:11:13.151879Z",
     "start_time": "2021-08-04T11:08:15.271Z"
    },
    "execution": {
     "iopub.execute_input": "2021-08-03T06:36:01.491419Z",
     "iopub.status.busy": "2021-08-03T06:36:01.490960Z",
     "iopub.status.idle": "2021-08-03T06:36:01.516946Z",
     "shell.execute_reply": "2021-08-03T06:36:01.515921Z",
     "shell.execute_reply.started": "2021-08-03T06:36:01.491377Z"
    }
   },
   "outputs": [],
   "source": [
    "data_cleaned4"
   ]
  },
  {
   "cell_type": "code",
   "execution_count": null,
   "metadata": {
    "ExecuteTime": {
     "end_time": "2021-08-04T11:11:13.153879Z",
     "start_time": "2021-08-04T11:08:15.495Z"
    },
    "execution": {
     "iopub.execute_input": "2021-08-03T06:36:01.518446Z",
     "iopub.status.busy": "2021-08-03T06:36:01.518131Z",
     "iopub.status.idle": "2021-08-03T06:36:01.528191Z",
     "shell.execute_reply": "2021-08-03T06:36:01.527422Z",
     "shell.execute_reply.started": "2021-08-03T06:36:01.518418Z"
    }
   },
   "outputs": [],
   "source": [
    "data_cleaned4=data_cleaned4.dropna()"
   ]
  },
  {
   "cell_type": "code",
   "execution_count": null,
   "metadata": {
    "ExecuteTime": {
     "end_time": "2021-08-04T11:11:13.156881Z",
     "start_time": "2021-08-04T11:08:15.808Z"
    },
    "execution": {
     "iopub.execute_input": "2021-08-03T06:36:01.530029Z",
     "iopub.status.busy": "2021-08-03T06:36:01.529680Z",
     "iopub.status.idle": "2021-08-03T06:36:01.589042Z",
     "shell.execute_reply": "2021-08-03T06:36:01.588220Z",
     "shell.execute_reply.started": "2021-08-03T06:36:01.530001Z"
    }
   },
   "outputs": [],
   "source": [
    "#Normalization of the data\n",
    "from numpy import set_printoptions\n",
    "from sklearn.preprocessing import MinMaxScaler"
   ]
  },
  {
   "cell_type": "code",
   "execution_count": null,
   "metadata": {
    "ExecuteTime": {
     "end_time": "2021-08-04T11:11:13.158877Z",
     "start_time": "2021-08-04T11:08:16.229Z"
    },
    "execution": {
     "iopub.execute_input": "2021-08-03T06:36:01.590667Z",
     "iopub.status.busy": "2021-08-03T06:36:01.590385Z",
     "iopub.status.idle": "2021-08-03T06:36:01.597941Z",
     "shell.execute_reply": "2021-08-03T06:36:01.596946Z",
     "shell.execute_reply.started": "2021-08-03T06:36:01.590641Z"
    }
   },
   "outputs": [],
   "source": [
    "data_cleaned4.values"
   ]
  },
  {
   "cell_type": "code",
   "execution_count": null,
   "metadata": {
    "ExecuteTime": {
     "end_time": "2021-08-04T11:11:13.160875Z",
     "start_time": "2021-08-04T11:08:16.445Z"
    },
    "execution": {
     "iopub.execute_input": "2021-08-03T06:36:01.599541Z",
     "iopub.status.busy": "2021-08-03T06:36:01.599227Z",
     "iopub.status.idle": "2021-08-03T06:36:01.609915Z",
     "shell.execute_reply": "2021-08-03T06:36:01.609141Z",
     "shell.execute_reply.started": "2021-08-03T06:36:01.599513Z"
    }
   },
   "outputs": [],
   "source": [
    "\n",
    "array = data_cleaned3.values\n",
    "\n",
    "scaler = MinMaxScaler(feature_range=(0,1))\n",
    "rescaledX = scaler.fit_transform(array[:,0:5])\n",
    "\n",
    "# summarize transformed data\n",
    "set_printoptions(precision=2)\n",
    "print(rescaledX[0:5,:])\n"
   ]
  },
  {
   "cell_type": "code",
   "execution_count": null,
   "metadata": {
    "ExecuteTime": {
     "end_time": "2021-08-04T11:11:13.163873Z",
     "start_time": "2021-08-04T11:08:16.693Z"
    },
    "execution": {
     "iopub.execute_input": "2021-08-03T06:36:01.611048Z",
     "iopub.status.busy": "2021-08-03T06:36:01.610799Z",
     "iopub.status.idle": "2021-08-03T06:36:01.619271Z",
     "shell.execute_reply": "2021-08-03T06:36:01.618492Z",
     "shell.execute_reply.started": "2021-08-03T06:36:01.611023Z"
    }
   },
   "outputs": [],
   "source": [
    "# Standardize data (0 mean, 1 stdev)\n",
    "from sklearn.preprocessing import StandardScaler"
   ]
  },
  {
   "cell_type": "code",
   "execution_count": null,
   "metadata": {
    "ExecuteTime": {
     "end_time": "2021-08-04T11:11:13.166872Z",
     "start_time": "2021-08-04T11:08:16.901Z"
    },
    "execution": {
     "iopub.execute_input": "2021-08-03T06:36:01.620778Z",
     "iopub.status.busy": "2021-08-03T06:36:01.620359Z",
     "iopub.status.idle": "2021-08-03T06:36:01.632188Z",
     "shell.execute_reply": "2021-08-03T06:36:01.631169Z",
     "shell.execute_reply.started": "2021-08-03T06:36:01.620719Z"
    }
   },
   "outputs": [],
   "source": [
    "array = data_cleaned4.values\n",
    "scaler = StandardScaler().fit(array)\n",
    "rescaledX = scaler.transform(array)\n",
    "\n",
    "# summarize transformed data\n",
    "set_printoptions(precision=2)\n",
    "print(rescaledX[0:5,:])"
   ]
  },
  {
   "cell_type": "markdown",
   "metadata": {},
   "source": [
    "# Speed up the EDA process"
   ]
  },
  {
   "cell_type": "code",
   "execution_count": null,
   "metadata": {
    "ExecuteTime": {
     "end_time": "2021-08-04T11:11:13.169870Z",
     "start_time": "2021-08-04T11:08:17.341Z"
    },
    "execution": {
     "iopub.execute_input": "2021-08-03T06:36:01.633729Z",
     "iopub.status.busy": "2021-08-03T06:36:01.633455Z",
     "iopub.status.idle": "2021-08-03T06:36:05.976337Z",
     "shell.execute_reply": "2021-08-03T06:36:05.975528Z",
     "shell.execute_reply.started": "2021-08-03T06:36:01.633695Z"
    }
   },
   "outputs": [],
   "source": [
    "sweet_report = sv.analyze(data)\n",
    "sweet_report.show_html('weather_report.html')"
   ]
  },
  {
   "cell_type": "code",
   "execution_count": null,
   "metadata": {},
   "outputs": [],
   "source": []
  },
  {
   "cell_type": "code",
   "execution_count": null,
   "metadata": {},
   "outputs": [],
   "source": []
  },
  {
   "cell_type": "code",
   "execution_count": null,
   "metadata": {},
   "outputs": [],
   "source": []
  },
  {
   "cell_type": "code",
   "execution_count": null,
   "metadata": {},
   "outputs": [],
   "source": []
  },
  {
   "cell_type": "code",
   "execution_count": null,
   "metadata": {},
   "outputs": [],
   "source": []
  },
  {
   "cell_type": "code",
   "execution_count": null,
   "metadata": {},
   "outputs": [],
   "source": []
  },
  {
   "cell_type": "code",
   "execution_count": null,
   "metadata": {},
   "outputs": [],
   "source": []
  },
  {
   "cell_type": "code",
   "execution_count": null,
   "metadata": {},
   "outputs": [],
   "source": []
  }
 ],
 "metadata": {
  "kernelspec": {
   "display_name": "Python 3",
   "language": "python",
   "name": "python3"
  },
  "language_info": {
   "codemirror_mode": {
    "name": "ipython",
    "version": 3
   },
   "file_extension": ".py",
   "mimetype": "text/x-python",
   "name": "python",
   "nbconvert_exporter": "python",
   "pygments_lexer": "ipython3",
   "version": "3.8.8"
  },
  "toc": {
   "base_numbering": 1,
   "nav_menu": {},
   "number_sections": true,
   "sideBar": true,
   "skip_h1_title": false,
   "title_cell": "Table of Contents",
   "title_sidebar": "Contents",
   "toc_cell": false,
   "toc_position": {},
   "toc_section_display": true,
   "toc_window_display": false
  }
 },
 "nbformat": 4,
 "nbformat_minor": 4
}
