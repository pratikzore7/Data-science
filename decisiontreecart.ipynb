{
 "cells": [
  {
   "cell_type": "code",
   "execution_count": 1,
   "metadata": {
    "ExecuteTime": {
     "end_time": "2021-08-25T16:40:19.348955Z",
     "start_time": "2021-08-25T16:39:52.691346Z"
    },
    "execution": {
     "iopub.execute_input": "2021-08-25T06:03:23.587012Z",
     "iopub.status.busy": "2021-08-25T06:03:23.586586Z",
     "iopub.status.idle": "2021-08-25T06:03:24.791190Z",
     "shell.execute_reply": "2021-08-25T06:03:24.790122Z",
     "shell.execute_reply.started": "2021-08-25T06:03:23.586977Z"
    }
   },
   "outputs": [],
   "source": [
    "import pandas as pd\n",
    "import matplotlib.pyplot as plt\n",
    "from sklearn import datasets  \n",
    "import numpy as np\n",
    "from sklearn.model_selection import train_test_split\n",
    "from sklearn.tree import  DecisionTreeClassifier\n",
    "from sklearn import tree\n",
    "from sklearn.metrics import classification_report"
   ]
  },
  {
   "cell_type": "code",
   "execution_count": 24,
   "metadata": {
    "ExecuteTime": {
     "end_time": "2021-08-25T16:56:57.960862Z",
     "start_time": "2021-08-25T16:56:57.841216Z"
    }
   },
   "outputs": [],
   "source": [
    "iris=pd.read_csv(r\"C:\\Users\\DELL\\Documents\\Pune @ Exelr\\Dicision Tree\\iris.csv\")"
   ]
  },
  {
   "cell_type": "code",
   "execution_count": 25,
   "metadata": {
    "ExecuteTime": {
     "end_time": "2021-08-25T16:57:40.155631Z",
     "start_time": "2021-08-25T16:57:40.113509Z"
    }
   },
   "outputs": [
    {
     "data": {
      "text/html": [
       "<div>\n",
       "<style scoped>\n",
       "    .dataframe tbody tr th:only-of-type {\n",
       "        vertical-align: middle;\n",
       "    }\n",
       "\n",
       "    .dataframe tbody tr th {\n",
       "        vertical-align: top;\n",
       "    }\n",
       "\n",
       "    .dataframe thead th {\n",
       "        text-align: right;\n",
       "    }\n",
       "</style>\n",
       "<table border=\"1\" class=\"dataframe\">\n",
       "  <thead>\n",
       "    <tr style=\"text-align: right;\">\n",
       "      <th></th>\n",
       "      <th>Unnamed: 0</th>\n",
       "      <th>Sepal.Length</th>\n",
       "      <th>Sepal.Width</th>\n",
       "      <th>Petal.Length</th>\n",
       "      <th>Petal.Width</th>\n",
       "      <th>Species</th>\n",
       "    </tr>\n",
       "  </thead>\n",
       "  <tbody>\n",
       "    <tr>\n",
       "      <th>0</th>\n",
       "      <td>1</td>\n",
       "      <td>5.1</td>\n",
       "      <td>3.5</td>\n",
       "      <td>1.4</td>\n",
       "      <td>0.2</td>\n",
       "      <td>setosa</td>\n",
       "    </tr>\n",
       "    <tr>\n",
       "      <th>1</th>\n",
       "      <td>2</td>\n",
       "      <td>4.9</td>\n",
       "      <td>3.0</td>\n",
       "      <td>1.4</td>\n",
       "      <td>0.2</td>\n",
       "      <td>setosa</td>\n",
       "    </tr>\n",
       "    <tr>\n",
       "      <th>2</th>\n",
       "      <td>3</td>\n",
       "      <td>4.7</td>\n",
       "      <td>3.2</td>\n",
       "      <td>1.3</td>\n",
       "      <td>0.2</td>\n",
       "      <td>setosa</td>\n",
       "    </tr>\n",
       "    <tr>\n",
       "      <th>3</th>\n",
       "      <td>4</td>\n",
       "      <td>4.6</td>\n",
       "      <td>3.1</td>\n",
       "      <td>1.5</td>\n",
       "      <td>0.2</td>\n",
       "      <td>setosa</td>\n",
       "    </tr>\n",
       "    <tr>\n",
       "      <th>4</th>\n",
       "      <td>5</td>\n",
       "      <td>5.0</td>\n",
       "      <td>3.6</td>\n",
       "      <td>1.4</td>\n",
       "      <td>0.2</td>\n",
       "      <td>setosa</td>\n",
       "    </tr>\n",
       "  </tbody>\n",
       "</table>\n",
       "</div>"
      ],
      "text/plain": [
       "   Unnamed: 0  Sepal.Length  Sepal.Width  Petal.Length  Petal.Width Species\n",
       "0           1           5.1          3.5           1.4          0.2  setosa\n",
       "1           2           4.9          3.0           1.4          0.2  setosa\n",
       "2           3           4.7          3.2           1.3          0.2  setosa\n",
       "3           4           4.6          3.1           1.5          0.2  setosa\n",
       "4           5           5.0          3.6           1.4          0.2  setosa"
      ]
     },
     "execution_count": 25,
     "metadata": {},
     "output_type": "execute_result"
    }
   ],
   "source": [
    "iris.head()"
   ]
  },
  {
   "cell_type": "code",
   "execution_count": 26,
   "metadata": {
    "ExecuteTime": {
     "end_time": "2021-08-25T16:58:29.017588Z",
     "start_time": "2021-08-25T16:58:29.005595Z"
    },
    "execution": {
     "iopub.execute_input": "2021-08-25T06:03:24.793651Z",
     "iopub.status.busy": "2021-08-25T06:03:24.793310Z",
     "iopub.status.idle": "2021-08-25T06:03:24.802095Z",
     "shell.execute_reply": "2021-08-25T06:03:24.800823Z",
     "shell.execute_reply.started": "2021-08-25T06:03:24.793618Z"
    }
   },
   "outputs": [],
   "source": [
    "# import some data to play with\n",
    "iris = datasets.load_iris()"
   ]
  },
  {
   "cell_type": "code",
   "execution_count": 27,
   "metadata": {
    "ExecuteTime": {
     "end_time": "2021-08-25T16:58:31.154716Z",
     "start_time": "2021-08-25T16:58:31.129963Z"
    },
    "execution": {
     "iopub.execute_input": "2021-08-25T06:03:24.804218Z",
     "iopub.status.busy": "2021-08-25T06:03:24.803871Z",
     "iopub.status.idle": "2021-08-25T06:03:24.823417Z",
     "shell.execute_reply": "2021-08-25T06:03:24.822307Z",
     "shell.execute_reply.started": "2021-08-25T06:03:24.804187Z"
    }
   },
   "outputs": [],
   "source": [
    "#Complete Iris dataset\n",
    "data=pd.DataFrame(iris.data,columns=[iris.feature_names])\n",
    "fdata=pd.concat((data,pd.DataFrame(iris.target)),axis=1)\n",
    "fdata=fdata.rename(columns= ({0:\"Species\"}))"
   ]
  },
  {
   "cell_type": "code",
   "execution_count": 28,
   "metadata": {
    "ExecuteTime": {
     "end_time": "2021-08-25T16:58:33.478549Z",
     "start_time": "2021-08-25T16:58:33.472556Z"
    },
    "execution": {
     "iopub.execute_input": "2021-08-25T06:03:24.825236Z",
     "iopub.status.busy": "2021-08-25T06:03:24.824919Z",
     "iopub.status.idle": "2021-08-25T06:03:24.833297Z",
     "shell.execute_reply": "2021-08-25T06:03:24.832364Z",
     "shell.execute_reply.started": "2021-08-25T06:03:24.825198Z"
    }
   },
   "outputs": [],
   "source": [
    "x=iris.data\n",
    "y=iris.target"
   ]
  },
  {
   "cell_type": "code",
   "execution_count": 29,
   "metadata": {
    "ExecuteTime": {
     "end_time": "2021-08-25T16:58:34.948501Z",
     "start_time": "2021-08-25T16:58:34.939508Z"
    },
    "execution": {
     "iopub.execute_input": "2021-08-25T06:03:24.838200Z",
     "iopub.status.busy": "2021-08-25T06:03:24.837560Z",
     "iopub.status.idle": "2021-08-25T06:03:24.847305Z",
     "shell.execute_reply": "2021-08-25T06:03:24.846471Z",
     "shell.execute_reply.started": "2021-08-25T06:03:24.838155Z"
    }
   },
   "outputs": [
    {
     "data": {
      "text/plain": [
       "array([0, 1, 2])"
      ]
     },
     "execution_count": 29,
     "metadata": {},
     "output_type": "execute_result"
    }
   ],
   "source": [
    "fdata['Species'].unique()"
   ]
  },
  {
   "cell_type": "code",
   "execution_count": 30,
   "metadata": {
    "ExecuteTime": {
     "end_time": "2021-08-25T16:58:37.216975Z",
     "start_time": "2021-08-25T16:58:37.201351Z"
    },
    "execution": {
     "iopub.execute_input": "2021-08-25T06:03:24.850506Z",
     "iopub.status.busy": "2021-08-25T06:03:24.850143Z",
     "iopub.status.idle": "2021-08-25T06:03:24.860565Z",
     "shell.execute_reply": "2021-08-25T06:03:24.859852Z",
     "shell.execute_reply.started": "2021-08-25T06:03:24.850468Z"
    }
   },
   "outputs": [
    {
     "data": {
      "text/plain": [
       "0    50\n",
       "1    50\n",
       "2    50\n",
       "Name: Species, dtype: int64"
      ]
     },
     "execution_count": 30,
     "metadata": {},
     "output_type": "execute_result"
    }
   ],
   "source": [
    "fdata.Species.value_counts()"
   ]
  },
  {
   "cell_type": "code",
   "execution_count": 31,
   "metadata": {
    "ExecuteTime": {
     "end_time": "2021-08-25T16:58:39.247306Z",
     "start_time": "2021-08-25T16:58:39.239309Z"
    },
    "execution": {
     "iopub.execute_input": "2021-08-25T06:03:24.862801Z",
     "iopub.status.busy": "2021-08-25T06:03:24.862130Z",
     "iopub.status.idle": "2021-08-25T06:03:24.870540Z",
     "shell.execute_reply": "2021-08-25T06:03:24.869812Z",
     "shell.execute_reply.started": "2021-08-25T06:03:24.862732Z"
    }
   },
   "outputs": [
    {
     "data": {
      "text/plain": [
       "[('sepal length (cm)',),\n",
       " ('sepal width (cm)',),\n",
       " ('petal length (cm)',),\n",
       " ('petal width (cm)',)]"
      ]
     },
     "execution_count": 31,
     "metadata": {},
     "output_type": "execute_result"
    }
   ],
   "source": [
    "colnames = list(data.columns)\n",
    "colnames"
   ]
  },
  {
   "cell_type": "code",
   "execution_count": 32,
   "metadata": {
    "ExecuteTime": {
     "end_time": "2021-08-25T16:58:40.852400Z",
     "start_time": "2021-08-25T16:58:40.845400Z"
    },
    "execution": {
     "iopub.execute_input": "2021-08-25T06:03:24.871983Z",
     "iopub.status.busy": "2021-08-25T06:03:24.871578Z",
     "iopub.status.idle": "2021-08-25T06:03:24.881651Z",
     "shell.execute_reply": "2021-08-25T06:03:24.880256Z",
     "shell.execute_reply.started": "2021-08-25T06:03:24.871953Z"
    }
   },
   "outputs": [],
   "source": [
    "# Splitting data into training and testing data set\n",
    "x_train, x_test,y_train,y_test = train_test_split(x,y, test_size=0.2,random_state=40)"
   ]
  },
  {
   "cell_type": "markdown",
   "metadata": {},
   "source": [
    "### Building Decision Tree Classifier using Entropy Criteria"
   ]
  },
  {
   "cell_type": "code",
   "execution_count": 33,
   "metadata": {
    "ExecuteTime": {
     "end_time": "2021-08-25T16:58:43.632663Z",
     "start_time": "2021-08-25T16:58:43.601103Z"
    },
    "execution": {
     "iopub.execute_input": "2021-08-25T06:03:24.883296Z",
     "iopub.status.busy": "2021-08-25T06:03:24.882859Z",
     "iopub.status.idle": "2021-08-25T06:03:24.900803Z",
     "shell.execute_reply": "2021-08-25T06:03:24.899842Z",
     "shell.execute_reply.started": "2021-08-25T06:03:24.883265Z"
    }
   },
   "outputs": [
    {
     "data": {
      "text/plain": [
       "DecisionTreeClassifier(criterion='entropy', max_depth=3)"
      ]
     },
     "execution_count": 33,
     "metadata": {},
     "output_type": "execute_result"
    }
   ],
   "source": [
    "model = DecisionTreeClassifier(criterion = 'entropy',max_depth=3)\n",
    "model.fit(x_train,y_train)"
   ]
  },
  {
   "cell_type": "code",
   "execution_count": 34,
   "metadata": {
    "ExecuteTime": {
     "end_time": "2021-08-25T16:58:45.229601Z",
     "start_time": "2021-08-25T16:58:45.220605Z"
    },
    "execution": {
     "iopub.execute_input": "2021-08-25T06:03:24.902546Z",
     "iopub.status.busy": "2021-08-25T06:03:24.902118Z",
     "iopub.status.idle": "2021-08-25T06:03:24.908196Z",
     "shell.execute_reply": "2021-08-25T06:03:24.907100Z",
     "shell.execute_reply.started": "2021-08-25T06:03:24.902514Z"
    }
   },
   "outputs": [
    {
     "data": {
      "text/plain": [
       "5"
      ]
     },
     "execution_count": 34,
     "metadata": {},
     "output_type": "execute_result"
    }
   ],
   "source": [
    "model.get_n_leaves()"
   ]
  },
  {
   "cell_type": "code",
   "execution_count": 35,
   "metadata": {
    "ExecuteTime": {
     "end_time": "2021-08-25T16:58:46.534101Z",
     "start_time": "2021-08-25T16:58:46.522108Z"
    },
    "execution": {
     "iopub.execute_input": "2021-08-25T06:03:24.909789Z",
     "iopub.status.busy": "2021-08-25T06:03:24.909461Z",
     "iopub.status.idle": "2021-08-25T06:03:24.923770Z",
     "shell.execute_reply": "2021-08-25T06:03:24.922892Z",
     "shell.execute_reply.started": "2021-08-25T06:03:24.909733Z"
    }
   },
   "outputs": [
    {
     "data": {
      "text/plain": [
       "1    13\n",
       "2     9\n",
       "0     8\n",
       "dtype: int64"
      ]
     },
     "execution_count": 35,
     "metadata": {},
     "output_type": "execute_result"
    }
   ],
   "source": [
    "preds = model.predict(x_test) # predicting on test data set \n",
    "pd.Series(preds).value_counts() # getting the count of each category "
   ]
  },
  {
   "cell_type": "code",
   "execution_count": 36,
   "metadata": {
    "ExecuteTime": {
     "end_time": "2021-08-25T16:58:47.698260Z",
     "start_time": "2021-08-25T16:58:47.690265Z"
    },
    "execution": {
     "iopub.execute_input": "2021-08-25T06:03:24.925533Z",
     "iopub.status.busy": "2021-08-25T06:03:24.924982Z",
     "iopub.status.idle": "2021-08-25T06:03:24.934131Z",
     "shell.execute_reply": "2021-08-25T06:03:24.933421Z",
     "shell.execute_reply.started": "2021-08-25T06:03:24.925489Z"
    }
   },
   "outputs": [
    {
     "data": {
      "text/plain": [
       "array([0, 1, 2, 2, 1, 2, 1, 1, 1, 0, 1, 0, 0, 1, 1, 2, 2, 2, 1, 1, 2, 2,\n",
       "       1, 0, 1, 0, 0, 2, 0, 1])"
      ]
     },
     "execution_count": 36,
     "metadata": {},
     "output_type": "execute_result"
    }
   ],
   "source": [
    "preds"
   ]
  },
  {
   "cell_type": "code",
   "execution_count": 37,
   "metadata": {
    "ExecuteTime": {
     "end_time": "2021-08-25T16:58:49.150990Z",
     "start_time": "2021-08-25T16:58:49.100018Z"
    },
    "execution": {
     "iopub.execute_input": "2021-08-25T06:03:24.935844Z",
     "iopub.status.busy": "2021-08-25T06:03:24.935284Z",
     "iopub.status.idle": "2021-08-25T06:03:24.992933Z",
     "shell.execute_reply": "2021-08-25T06:03:24.991949Z",
     "shell.execute_reply.started": "2021-08-25T06:03:24.935801Z"
    }
   },
   "outputs": [
    {
     "data": {
      "text/html": [
       "<div>\n",
       "<style scoped>\n",
       "    .dataframe tbody tr th:only-of-type {\n",
       "        vertical-align: middle;\n",
       "    }\n",
       "\n",
       "    .dataframe tbody tr th {\n",
       "        vertical-align: top;\n",
       "    }\n",
       "\n",
       "    .dataframe thead th {\n",
       "        text-align: right;\n",
       "    }\n",
       "</style>\n",
       "<table border=\"1\" class=\"dataframe\">\n",
       "  <thead>\n",
       "    <tr style=\"text-align: right;\">\n",
       "      <th>col_0</th>\n",
       "      <th>0</th>\n",
       "      <th>1</th>\n",
       "      <th>2</th>\n",
       "    </tr>\n",
       "    <tr>\n",
       "      <th>row_0</th>\n",
       "      <th></th>\n",
       "      <th></th>\n",
       "      <th></th>\n",
       "    </tr>\n",
       "  </thead>\n",
       "  <tbody>\n",
       "    <tr>\n",
       "      <th>0</th>\n",
       "      <td>8</td>\n",
       "      <td>0</td>\n",
       "      <td>0</td>\n",
       "    </tr>\n",
       "    <tr>\n",
       "      <th>1</th>\n",
       "      <td>0</td>\n",
       "      <td>12</td>\n",
       "      <td>0</td>\n",
       "    </tr>\n",
       "    <tr>\n",
       "      <th>2</th>\n",
       "      <td>0</td>\n",
       "      <td>1</td>\n",
       "      <td>9</td>\n",
       "    </tr>\n",
       "  </tbody>\n",
       "</table>\n",
       "</div>"
      ],
      "text/plain": [
       "col_0  0   1  2\n",
       "row_0          \n",
       "0      8   0  0\n",
       "1      0  12  0\n",
       "2      0   1  9"
      ]
     },
     "execution_count": 37,
     "metadata": {},
     "output_type": "execute_result"
    }
   ],
   "source": [
    "pd.crosstab(y_test,preds) # getting the 2 way table to understand the correct and wrong predictions"
   ]
  },
  {
   "cell_type": "code",
   "execution_count": 38,
   "metadata": {
    "ExecuteTime": {
     "end_time": "2021-08-25T16:58:50.542006Z",
     "start_time": "2021-08-25T16:58:50.533031Z"
    },
    "execution": {
     "iopub.execute_input": "2021-08-25T06:03:24.994834Z",
     "iopub.status.busy": "2021-08-25T06:03:24.994489Z",
     "iopub.status.idle": "2021-08-25T06:03:25.001765Z",
     "shell.execute_reply": "2021-08-25T06:03:25.000510Z",
     "shell.execute_reply.started": "2021-08-25T06:03:24.994800Z"
    }
   },
   "outputs": [
    {
     "data": {
      "text/plain": [
       "0.9666666666666667"
      ]
     },
     "execution_count": 38,
     "metadata": {},
     "output_type": "execute_result"
    }
   ],
   "source": [
    "# Accuracy \n",
    "np.mean(preds==y_test)"
   ]
  },
  {
   "cell_type": "code",
   "execution_count": 39,
   "metadata": {
    "ExecuteTime": {
     "end_time": "2021-08-25T16:58:51.743304Z",
     "start_time": "2021-08-25T16:58:51.722314Z"
    },
    "execution": {
     "iopub.execute_input": "2021-08-25T06:03:25.003797Z",
     "iopub.status.busy": "2021-08-25T06:03:25.003270Z",
     "iopub.status.idle": "2021-08-25T06:03:25.019391Z",
     "shell.execute_reply": "2021-08-25T06:03:25.018474Z",
     "shell.execute_reply.started": "2021-08-25T06:03:25.003713Z"
    }
   },
   "outputs": [
    {
     "name": "stdout",
     "output_type": "stream",
     "text": [
      "              precision    recall  f1-score   support\n",
      "\n",
      "           0       1.00      1.00      1.00         8\n",
      "           1       1.00      0.92      0.96        13\n",
      "           2       0.90      1.00      0.95         9\n",
      "\n",
      "    accuracy                           0.97        30\n",
      "   macro avg       0.97      0.97      0.97        30\n",
      "weighted avg       0.97      0.97      0.97        30\n",
      "\n"
     ]
    }
   ],
   "source": [
    "print(classification_report(preds,y_test))"
   ]
  },
  {
   "cell_type": "markdown",
   "metadata": {},
   "source": [
    "### Building Decision Tree Classifier (CART) using Gini Criteria"
   ]
  },
  {
   "cell_type": "code",
   "execution_count": 40,
   "metadata": {
    "ExecuteTime": {
     "end_time": "2021-08-25T16:58:55.977455Z",
     "start_time": "2021-08-25T16:58:55.970466Z"
    },
    "execution": {
     "iopub.execute_input": "2021-08-25T06:03:25.021046Z",
     "iopub.status.busy": "2021-08-25T06:03:25.020457Z",
     "iopub.status.idle": "2021-08-25T06:03:25.025104Z",
     "shell.execute_reply": "2021-08-25T06:03:25.024366Z",
     "shell.execute_reply.started": "2021-08-25T06:03:25.021014Z"
    }
   },
   "outputs": [],
   "source": [
    "from sklearn.tree import DecisionTreeClassifier\n",
    "model_gini = DecisionTreeClassifier(criterion='gini', max_depth=3)"
   ]
  },
  {
   "cell_type": "code",
   "execution_count": 41,
   "metadata": {
    "ExecuteTime": {
     "end_time": "2021-08-25T16:58:57.580410Z",
     "start_time": "2021-08-25T16:58:57.569413Z"
    },
    "execution": {
     "iopub.execute_input": "2021-08-25T06:03:25.027053Z",
     "iopub.status.busy": "2021-08-25T06:03:25.026324Z",
     "iopub.status.idle": "2021-08-25T06:03:25.037988Z",
     "shell.execute_reply": "2021-08-25T06:03:25.036999Z",
     "shell.execute_reply.started": "2021-08-25T06:03:25.027009Z"
    }
   },
   "outputs": [
    {
     "data": {
      "text/plain": [
       "DecisionTreeClassifier(max_depth=3)"
      ]
     },
     "execution_count": 41,
     "metadata": {},
     "output_type": "execute_result"
    }
   ],
   "source": [
    "model_gini.fit(x_train, y_train)"
   ]
  },
  {
   "cell_type": "code",
   "execution_count": 42,
   "metadata": {
    "ExecuteTime": {
     "end_time": "2021-08-25T16:59:05.947144Z",
     "start_time": "2021-08-25T16:59:05.938149Z"
    },
    "execution": {
     "iopub.execute_input": "2021-08-25T06:03:25.039569Z",
     "iopub.status.busy": "2021-08-25T06:03:25.039170Z",
     "iopub.status.idle": "2021-08-25T06:03:25.048002Z",
     "shell.execute_reply": "2021-08-25T06:03:25.047148Z",
     "shell.execute_reply.started": "2021-08-25T06:03:25.039540Z"
    }
   },
   "outputs": [
    {
     "data": {
      "text/plain": [
       "0.9666666666666667"
      ]
     },
     "execution_count": 42,
     "metadata": {},
     "output_type": "execute_result"
    }
   ],
   "source": [
    "#Prediction and computing the accuracy\n",
    "pred=model.predict(x_test)\n",
    "np.mean(preds==y_test)"
   ]
  },
  {
   "cell_type": "markdown",
   "metadata": {},
   "source": [
    "#### Decision Tree Regression Example"
   ]
  },
  {
   "cell_type": "code",
   "execution_count": 43,
   "metadata": {
    "ExecuteTime": {
     "end_time": "2021-08-25T16:59:09.674766Z",
     "start_time": "2021-08-25T16:59:09.670768Z"
    },
    "execution": {
     "iopub.execute_input": "2021-08-25T06:03:25.049676Z",
     "iopub.status.busy": "2021-08-25T06:03:25.049238Z",
     "iopub.status.idle": "2021-08-25T06:03:25.055495Z",
     "shell.execute_reply": "2021-08-25T06:03:25.054493Z",
     "shell.execute_reply.started": "2021-08-25T06:03:25.049646Z"
    }
   },
   "outputs": [],
   "source": [
    "# Decision Tree Regression\n",
    "from sklearn.tree import DecisionTreeRegressor"
   ]
  },
  {
   "cell_type": "code",
   "execution_count": 44,
   "metadata": {
    "ExecuteTime": {
     "end_time": "2021-08-25T16:59:14.462826Z",
     "start_time": "2021-08-25T16:59:14.455826Z"
    },
    "execution": {
     "iopub.execute_input": "2021-08-25T06:03:25.057186Z",
     "iopub.status.busy": "2021-08-25T06:03:25.056764Z",
     "iopub.status.idle": "2021-08-25T06:03:25.068374Z",
     "shell.execute_reply": "2021-08-25T06:03:25.066855Z",
     "shell.execute_reply.started": "2021-08-25T06:03:25.057144Z"
    }
   },
   "outputs": [],
   "source": [
    "array = fdata.values\n",
    "X = array[:,0:3]\n",
    "y = array[:,3]"
   ]
  },
  {
   "cell_type": "code",
   "execution_count": 45,
   "metadata": {
    "ExecuteTime": {
     "end_time": "2021-08-25T16:59:16.412065Z",
     "start_time": "2021-08-25T16:59:16.404069Z"
    },
    "execution": {
     "iopub.execute_input": "2021-08-25T06:03:25.071032Z",
     "iopub.status.busy": "2021-08-25T06:03:25.070600Z",
     "iopub.status.idle": "2021-08-25T06:03:25.081498Z",
     "shell.execute_reply": "2021-08-25T06:03:25.080399Z",
     "shell.execute_reply.started": "2021-08-25T06:03:25.070985Z"
    }
   },
   "outputs": [],
   "source": [
    "X_train, X_test, y_train, y_test = train_test_split(X, y, test_size=0.33, random_state=1)"
   ]
  },
  {
   "cell_type": "code",
   "execution_count": 46,
   "metadata": {
    "ExecuteTime": {
     "end_time": "2021-08-25T16:59:18.137436Z",
     "start_time": "2021-08-25T16:59:18.116133Z"
    },
    "execution": {
     "iopub.execute_input": "2021-08-25T06:03:25.083355Z",
     "iopub.status.busy": "2021-08-25T06:03:25.082986Z",
     "iopub.status.idle": "2021-08-25T06:03:25.094577Z",
     "shell.execute_reply": "2021-08-25T06:03:25.093641Z",
     "shell.execute_reply.started": "2021-08-25T06:03:25.083309Z"
    }
   },
   "outputs": [
    {
     "data": {
      "text/plain": [
       "DecisionTreeRegressor()"
      ]
     },
     "execution_count": 46,
     "metadata": {},
     "output_type": "execute_result"
    }
   ],
   "source": [
    "model = DecisionTreeRegressor()\n",
    "model.fit(X_train, y_train)"
   ]
  },
  {
   "cell_type": "code",
   "execution_count": 47,
   "metadata": {
    "ExecuteTime": {
     "end_time": "2021-08-25T16:59:20.115881Z",
     "start_time": "2021-08-25T16:59:20.105906Z"
    },
    "execution": {
     "iopub.execute_input": "2021-08-25T06:03:25.096350Z",
     "iopub.status.busy": "2021-08-25T06:03:25.095873Z",
     "iopub.status.idle": "2021-08-25T06:03:25.108786Z",
     "shell.execute_reply": "2021-08-25T06:03:25.107786Z",
     "shell.execute_reply.started": "2021-08-25T06:03:25.096318Z"
    }
   },
   "outputs": [
    {
     "data": {
      "text/plain": [
       "0.857425861447953"
      ]
     },
     "execution_count": 47,
     "metadata": {},
     "output_type": "execute_result"
    }
   ],
   "source": [
    "#Find the accuracy\n",
    "model.score(X_test,y_test)"
   ]
  },
  {
   "cell_type": "code",
   "execution_count": null,
   "metadata": {},
   "outputs": [],
   "source": []
  },
  {
   "cell_type": "code",
   "execution_count": null,
   "metadata": {},
   "outputs": [],
   "source": []
  },
  {
   "cell_type": "code",
   "execution_count": null,
   "metadata": {},
   "outputs": [],
   "source": []
  }
 ],
 "metadata": {
  "kernelspec": {
   "display_name": "Python 3",
   "language": "python",
   "name": "python3"
  },
  "language_info": {
   "codemirror_mode": {
    "name": "ipython",
    "version": 3
   },
   "file_extension": ".py",
   "mimetype": "text/x-python",
   "name": "python",
   "nbconvert_exporter": "python",
   "pygments_lexer": "ipython3",
   "version": "3.8.8"
  },
  "toc": {
   "base_numbering": 1,
   "nav_menu": {},
   "number_sections": true,
   "sideBar": true,
   "skip_h1_title": false,
   "title_cell": "Table of Contents",
   "title_sidebar": "Contents",
   "toc_cell": false,
   "toc_position": {},
   "toc_section_display": true,
   "toc_window_display": false
  }
 },
 "nbformat": 4,
 "nbformat_minor": 4
}
