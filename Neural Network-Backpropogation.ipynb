{
 "cells": [
  {
   "cell_type": "code",
   "execution_count": 1,
   "metadata": {
    "ExecuteTime": {
     "end_time": "2021-10-23T09:27:57.876281Z",
     "start_time": "2021-10-23T09:27:30.896042Z"
    }
   },
   "outputs": [
    {
     "name": "stdout",
     "output_type": "stream",
     "text": [
      "Requirement already satisfied: keras in c:\\users\\dell\\anaconda3\\lib\\site-packages (2.6.0)\n"
     ]
    }
   ],
   "source": [
    "!pip install keras"
   ]
  },
  {
   "cell_type": "code",
   "execution_count": 2,
   "metadata": {
    "ExecuteTime": {
     "end_time": "2021-10-23T09:34:26.816901Z",
     "start_time": "2021-10-23T09:27:57.876281Z"
    }
   },
   "outputs": [
    {
     "name": "stdout",
     "output_type": "stream",
     "text": [
      "Collecting tensorflow\n",
      "  Using cached tensorflow-2.6.0-cp38-cp38-win_amd64.whl (423.2 MB)\n",
      "Collecting keras-preprocessing~=1.1.2\n",
      "  Using cached Keras_Preprocessing-1.1.2-py2.py3-none-any.whl (42 kB)\n",
      "Collecting google-pasta~=0.2\n",
      "  Using cached google_pasta-0.2.0-py3-none-any.whl (57 kB)\n",
      "Collecting tensorflow-estimator~=2.6\n",
      "  Using cached tensorflow_estimator-2.6.0-py2.py3-none-any.whl (462 kB)\n",
      "Collecting h5py~=3.1.0\n",
      "  Using cached h5py-3.1.0-cp38-cp38-win_amd64.whl (2.7 MB)\n",
      "Collecting grpcio<2.0,>=1.37.0\n",
      "  Downloading grpcio-1.41.0-cp38-cp38-win_amd64.whl (3.2 MB)\n",
      "Collecting absl-py~=0.10\n",
      "  Downloading absl_py-0.15.0-py3-none-any.whl (132 kB)\n",
      "Collecting gast==0.4.0\n",
      "  Using cached gast-0.4.0-py3-none-any.whl (9.8 kB)\n",
      "Requirement already satisfied: wheel~=0.35 in c:\\users\\dell\\anaconda3\\lib\\site-packages (from tensorflow) (0.36.2)\n",
      "Requirement already satisfied: keras~=2.6 in c:\\users\\dell\\anaconda3\\lib\\site-packages (from tensorflow) (2.6.0)\n",
      "Requirement already satisfied: typing-extensions~=3.7.4 in c:\\users\\dell\\anaconda3\\lib\\site-packages (from tensorflow) (3.7.4.3)\n",
      "Collecting astunparse~=1.6.3\n",
      "  Using cached astunparse-1.6.3-py2.py3-none-any.whl (12 kB)\n",
      "Collecting tensorboard~=2.6\n",
      "  Downloading tensorboard-2.7.0-py3-none-any.whl (5.8 MB)\n",
      "Requirement already satisfied: wrapt~=1.12.1 in c:\\users\\dell\\anaconda3\\lib\\site-packages (from tensorflow) (1.12.1)\n",
      "Requirement already satisfied: numpy~=1.19.2 in c:\\users\\dell\\anaconda3\\lib\\site-packages (from tensorflow) (1.19.5)\n",
      "Collecting flatbuffers~=1.12.0\n",
      "  Using cached flatbuffers-1.12-py2.py3-none-any.whl (15 kB)\n",
      "Collecting clang~=5.0\n",
      "  Using cached clang-5.0-py3-none-any.whl\n",
      "Collecting opt-einsum~=3.3.0\n",
      "  Using cached opt_einsum-3.3.0-py3-none-any.whl (65 kB)\n",
      "Collecting termcolor~=1.1.0\n",
      "  Using cached termcolor-1.1.0-py3-none-any.whl\n",
      "Requirement already satisfied: six~=1.15.0 in c:\\users\\dell\\anaconda3\\lib\\site-packages (from tensorflow) (1.15.0)\n",
      "Requirement already satisfied: protobuf>=3.9.2 in c:\\users\\dell\\anaconda3\\lib\\site-packages (from tensorflow) (3.17.3)\n",
      "Requirement already satisfied: google-auth<3,>=1.6.3 in c:\\users\\dell\\anaconda3\\lib\\site-packages (from tensorboard~=2.6->tensorflow) (1.35.0)\n",
      "Requirement already satisfied: werkzeug>=0.11.15 in c:\\users\\dell\\anaconda3\\lib\\site-packages (from tensorboard~=2.6->tensorflow) (1.0.1)\n",
      "Requirement already satisfied: requests<3,>=2.21.0 in c:\\users\\dell\\anaconda3\\lib\\site-packages (from tensorboard~=2.6->tensorflow) (2.25.1)\n",
      "Requirement already satisfied: setuptools>=41.0.0 in c:\\users\\dell\\anaconda3\\lib\\site-packages (from tensorboard~=2.6->tensorflow) (52.0.0.post20210125)\n",
      "Requirement already satisfied: tensorboard-data-server<0.7.0,>=0.6.0 in c:\\users\\dell\\anaconda3\\lib\\site-packages (from tensorboard~=2.6->tensorflow) (0.6.1)\n",
      "Collecting markdown>=2.6.8\n",
      "  Using cached Markdown-3.3.4-py3-none-any.whl (97 kB)\n",
      "Requirement already satisfied: tensorboard-plugin-wit>=1.6.0 in c:\\users\\dell\\anaconda3\\lib\\site-packages (from tensorboard~=2.6->tensorflow) (1.8.0)\n",
      "Collecting google-auth-oauthlib<0.5,>=0.4.1\n",
      "  Using cached google_auth_oauthlib-0.4.6-py2.py3-none-any.whl (18 kB)\n",
      "Requirement already satisfied: cachetools<5.0,>=2.0.0 in c:\\users\\dell\\anaconda3\\lib\\site-packages (from google-auth<3,>=1.6.3->tensorboard~=2.6->tensorflow) (4.2.2)\n",
      "Requirement already satisfied: pyasn1-modules>=0.2.1 in c:\\users\\dell\\anaconda3\\lib\\site-packages (from google-auth<3,>=1.6.3->tensorboard~=2.6->tensorflow) (0.2.8)\n",
      "Requirement already satisfied: rsa<5,>=3.1.4 in c:\\users\\dell\\anaconda3\\lib\\site-packages (from google-auth<3,>=1.6.3->tensorboard~=2.6->tensorflow) (4.7.2)\n",
      "Requirement already satisfied: requests-oauthlib>=0.7.0 in c:\\users\\dell\\anaconda3\\lib\\site-packages (from google-auth-oauthlib<0.5,>=0.4.1->tensorboard~=2.6->tensorflow) (1.3.0)\n",
      "Requirement already satisfied: pyasn1<0.5.0,>=0.4.6 in c:\\users\\dell\\anaconda3\\lib\\site-packages (from pyasn1-modules>=0.2.1->google-auth<3,>=1.6.3->tensorboard~=2.6->tensorflow) (0.4.8)\n",
      "Requirement already satisfied: urllib3<1.27,>=1.21.1 in c:\\users\\dell\\anaconda3\\lib\\site-packages (from requests<3,>=2.21.0->tensorboard~=2.6->tensorflow) (1.26.4)\n",
      "Requirement already satisfied: chardet<5,>=3.0.2 in c:\\users\\dell\\anaconda3\\lib\\site-packages (from requests<3,>=2.21.0->tensorboard~=2.6->tensorflow) (4.0.0)\n",
      "Requirement already satisfied: certifi>=2017.4.17 in c:\\users\\dell\\anaconda3\\lib\\site-packages (from requests<3,>=2.21.0->tensorboard~=2.6->tensorflow) (2020.12.5)\n",
      "Requirement already satisfied: idna<3,>=2.5 in c:\\users\\dell\\anaconda3\\lib\\site-packages (from requests<3,>=2.21.0->tensorboard~=2.6->tensorflow) (2.10)\n",
      "Requirement already satisfied: oauthlib>=3.0.0 in c:\\users\\dell\\anaconda3\\lib\\site-packages (from requests-oauthlib>=0.7.0->google-auth-oauthlib<0.5,>=0.4.1->tensorboard~=2.6->tensorflow) (3.1.1)\n",
      "Installing collected packages: markdown, grpcio, google-auth-oauthlib, absl-py, termcolor, tensorflow-estimator, tensorboard, opt-einsum, keras-preprocessing, h5py, google-pasta, gast, flatbuffers, clang, astunparse, tensorflow\n",
      "  Attempting uninstall: h5py\n",
      "    Found existing installation: h5py 2.10.0\n",
      "    Uninstalling h5py-2.10.0:\n",
      "      Successfully uninstalled h5py-2.10.0\n",
      "Successfully installed absl-py-0.15.0 astunparse-1.6.3 clang-5.0 flatbuffers-1.12 gast-0.4.0 google-auth-oauthlib-0.4.6 google-pasta-0.2.0 grpcio-1.41.0 h5py-3.1.0 keras-preprocessing-1.1.2 markdown-3.3.4 opt-einsum-3.3.0 tensorboard-2.7.0 tensorflow-2.6.0 tensorflow-estimator-2.6.0 termcolor-1.1.0\n"
     ]
    }
   ],
   "source": [
    "!pip install tensorflow"
   ]
  },
  {
   "cell_type": "code",
   "execution_count": 3,
   "metadata": {
    "ExecuteTime": {
     "end_time": "2021-10-23T09:35:10.504519Z",
     "start_time": "2021-10-23T09:34:39.328003Z"
    },
    "execution": {
     "iopub.execute_input": "2021-09-13T06:58:23.941380Z",
     "iopub.status.busy": "2021-09-13T06:58:23.940499Z",
     "iopub.status.idle": "2021-09-13T06:58:29.367729Z",
     "shell.execute_reply": "2021-09-13T06:58:29.366883Z",
     "shell.execute_reply.started": "2021-09-13T06:58:23.941331Z"
    }
   },
   "outputs": [],
   "source": [
    "# Create your first MLP in Keras\n",
    "from keras.models import Sequential\n",
    "from keras.layers import Dense\n",
    "import numpy\n",
    "#pip install keras\n",
    "#https://www.tensorflow.org/install/pip#windows"
   ]
  },
  {
   "cell_type": "code",
   "execution_count": 6,
   "metadata": {
    "ExecuteTime": {
     "end_time": "2021-10-23T09:39:30.106574Z",
     "start_time": "2021-10-23T09:39:30.034581Z"
    }
   },
   "outputs": [
    {
     "name": "stdout",
     "output_type": "stream",
     "text": [
      " Volume in drive C has no label.\n",
      " Volume Serial Number is B66D-EEDA\n",
      "\n",
      " Directory of C:\\Users\\DELL\\Documents\\Pune @ Exelr\\Neural Network\n",
      "\n",
      "23-10-2021  15:09    <DIR>          .\n",
      "23-10-2021  15:09    <DIR>          ..\n",
      "20-09-2021  17:15    <DIR>          .ipynb_checkpoints\n",
      "20-09-2021  17:31            96,609 hyperparameter-tuning.ipynb\n",
      "23-10-2021  15:09            61,503 nn-backpropogation.ipynb\n",
      "26-08-2021  11:57            23,279 pima-indians-diabetes.data.csv\n",
      "               3 File(s)        181,391 bytes\n",
      "               3 Dir(s)  175,552,020,480 bytes free\n"
     ]
    }
   ],
   "source": [
    "ls"
   ]
  },
  {
   "cell_type": "code",
   "execution_count": 7,
   "metadata": {
    "ExecuteTime": {
     "end_time": "2021-10-23T09:40:18.768026Z",
     "start_time": "2021-10-23T09:40:18.686601Z"
    },
    "execution": {
     "iopub.execute_input": "2021-09-13T06:58:29.370066Z",
     "iopub.status.busy": "2021-09-13T06:58:29.369745Z",
     "iopub.status.idle": "2021-09-13T06:58:29.396680Z",
     "shell.execute_reply": "2021-09-13T06:58:29.395865Z",
     "shell.execute_reply.started": "2021-09-13T06:58:29.370039Z"
    }
   },
   "outputs": [],
   "source": [
    "# fix random seed for reproducibility\n",
    "seed = 7\n",
    "numpy.random.seed(seed)\n",
    "# load pima indians dataset\n",
    "dataset = numpy.loadtxt(\"pima-indians-diabetes.data.csv\", delimiter=\",\")\n",
    "# split into input (X) and output (Y) variables\n",
    "X = dataset[:,0:8]\n",
    "Y = dataset[:,8]\n"
   ]
  },
  {
   "cell_type": "code",
   "execution_count": 8,
   "metadata": {
    "ExecuteTime": {
     "end_time": "2021-10-23T09:40:26.361755Z",
     "start_time": "2021-10-23T09:40:20.768731Z"
    },
    "execution": {
     "iopub.execute_input": "2021-09-13T06:58:29.398261Z",
     "iopub.status.busy": "2021-09-13T06:58:29.397993Z",
     "iopub.status.idle": "2021-09-13T06:58:29.515703Z",
     "shell.execute_reply": "2021-09-13T06:58:29.514657Z",
     "shell.execute_reply.started": "2021-09-13T06:58:29.398235Z"
    }
   },
   "outputs": [],
   "source": [
    "# create model\n",
    "model = Sequential()\n",
    "model.add(Dense(12, input_dim=8, activation='relu'))\n",
    "model.add(Dense(8,activation='relu'))\n",
    "model.add(Dense(1,activation='sigmoid'))"
   ]
  },
  {
   "attachments": {
    "image.png": {
     "image/png": "[encoded data removed]"
    }
   },
   "cell_type": "markdown",
   "metadata": {},
   "source": [
    "![image.png](attachment:image.png)"
   ]
  },
  {
   "cell_type": "code",
   "execution_count": 9,
   "metadata": {
    "ExecuteTime": {
     "end_time": "2021-10-23T09:40:26.402211Z",
     "start_time": "2021-10-23T09:40:26.361755Z"
    },
    "execution": {
     "iopub.execute_input": "2021-09-13T06:58:29.519583Z",
     "iopub.status.busy": "2021-09-13T06:58:29.519237Z",
     "iopub.status.idle": "2021-09-13T06:58:29.537271Z",
     "shell.execute_reply": "2021-09-13T06:58:29.536336Z",
     "shell.execute_reply.started": "2021-09-13T06:58:29.519549Z"
    }
   },
   "outputs": [],
   "source": [
    "# Compile model\n",
    "model.compile(loss='binary_crossentropy', optimizer='adam', metrics=['accuracy'])"
   ]
  },
  {
   "cell_type": "code",
   "execution_count": 10,
   "metadata": {
    "ExecuteTime": {
     "end_time": "2021-10-23T09:41:01.894784Z",
     "start_time": "2021-10-23T09:40:27.738887Z"
    },
    "execution": {
     "iopub.execute_input": "2021-09-13T06:58:29.540109Z",
     "iopub.status.busy": "2021-09-13T06:58:29.539675Z",
     "iopub.status.idle": "2021-09-13T06:58:43.916034Z",
     "shell.execute_reply": "2021-09-13T06:58:43.914813Z",
     "shell.execute_reply.started": "2021-09-13T06:58:29.540074Z"
    }
   },
   "outputs": [
    {
     "name": "stdout",
     "output_type": "stream",
     "text": [
      "Epoch 1/150\n",
      "52/52 [==============================] - 2s 14ms/step - loss: 6.5765 - accuracy: 0.4475 - val_loss: 2.5873 - val_accuracy: 0.5906\n",
      "Epoch 2/150\n",
      "52/52 [==============================] - 0s 4ms/step - loss: 2.2485 - accuracy: 0.5875 - val_loss: 1.6407 - val_accuracy: 0.5551\n",
      "Epoch 3/150\n",
      "52/52 [==============================] - 0s 3ms/step - loss: 1.5594 - accuracy: 0.5973 - val_loss: 1.2946 - val_accuracy: 0.6142\n",
      "Epoch 4/150\n",
      "52/52 [==============================] - 0s 4ms/step - loss: 1.2933 - accuracy: 0.6089 - val_loss: 1.0848 - val_accuracy: 0.6260\n",
      "Epoch 5/150\n",
      "52/52 [==============================] - 0s 3ms/step - loss: 1.1050 - accuracy: 0.6089 - val_loss: 0.9498 - val_accuracy: 0.6299\n",
      "Epoch 6/150\n",
      "52/52 [==============================] - 0s 3ms/step - loss: 0.9556 - accuracy: 0.6342 - val_loss: 0.8364 - val_accuracy: 0.6575\n",
      "Epoch 7/150\n",
      "52/52 [==============================] - 0s 3ms/step - loss: 0.8492 - accuracy: 0.6615 - val_loss: 0.7507 - val_accuracy: 0.6496\n",
      "Epoch 8/150\n",
      "52/52 [==============================] - 0s 3ms/step - loss: 0.7733 - accuracy: 0.6634 - val_loss: 0.7335 - val_accuracy: 0.6693\n",
      "Epoch 9/150\n",
      "52/52 [==============================] - 0s 3ms/step - loss: 0.7273 - accuracy: 0.6732 - val_loss: 0.7355 - val_accuracy: 0.6496\n",
      "Epoch 10/150\n",
      "52/52 [==============================] - 0s 4ms/step - loss: 0.7017 - accuracy: 0.6751 - val_loss: 0.7246 - val_accuracy: 0.6457\n",
      "Epoch 11/150\n",
      "52/52 [==============================] - 0s 3ms/step - loss: 0.6854 - accuracy: 0.6790 - val_loss: 0.7246 - val_accuracy: 0.6299\n",
      "Epoch 12/150\n",
      "52/52 [==============================] - 0s 3ms/step - loss: 0.6532 - accuracy: 0.6693 - val_loss: 0.8168 - val_accuracy: 0.5827\n",
      "Epoch 13/150\n",
      "52/52 [==============================] - 0s 3ms/step - loss: 0.6456 - accuracy: 0.6790 - val_loss: 0.7042 - val_accuracy: 0.6339\n",
      "Epoch 14/150\n",
      "52/52 [==============================] - 0s 4ms/step - loss: 0.6221 - accuracy: 0.6829 - val_loss: 0.7244 - val_accuracy: 0.6811\n",
      "Epoch 15/150\n",
      "52/52 [==============================] - 0s 4ms/step - loss: 0.6140 - accuracy: 0.6984 - val_loss: 0.6946 - val_accuracy: 0.6339\n",
      "Epoch 16/150\n",
      "52/52 [==============================] - 0s 3ms/step - loss: 0.6188 - accuracy: 0.6693 - val_loss: 0.7046 - val_accuracy: 0.6299\n",
      "Epoch 17/150\n",
      "52/52 [==============================] - 0s 4ms/step - loss: 0.6025 - accuracy: 0.6965 - val_loss: 0.6978 - val_accuracy: 0.6339\n",
      "Epoch 18/150\n",
      "52/52 [==============================] - 0s 4ms/step - loss: 0.5968 - accuracy: 0.7082 - val_loss: 0.6676 - val_accuracy: 0.6772\n",
      "Epoch 19/150\n",
      "52/52 [==============================] - 0s 3ms/step - loss: 0.5938 - accuracy: 0.6907 - val_loss: 0.6508 - val_accuracy: 0.6929\n",
      "Epoch 20/150\n",
      "52/52 [==============================] - 0s 4ms/step - loss: 0.6034 - accuracy: 0.6887 - val_loss: 0.6642 - val_accuracy: 0.6575\n",
      "Epoch 21/150\n",
      "52/52 [==============================] - 0s 3ms/step - loss: 0.5886 - accuracy: 0.7140 - val_loss: 0.6752 - val_accuracy: 0.6654\n",
      "Epoch 22/150\n",
      "52/52 [==============================] - 0s 3ms/step - loss: 0.5723 - accuracy: 0.7004 - val_loss: 0.6691 - val_accuracy: 0.6457\n",
      "Epoch 23/150\n",
      "52/52 [==============================] - 0s 3ms/step - loss: 0.5756 - accuracy: 0.6887 - val_loss: 0.6863 - val_accuracy: 0.6181\n",
      "Epoch 24/150\n",
      "52/52 [==============================] - 0s 3ms/step - loss: 0.5894 - accuracy: 0.7043 - val_loss: 0.6514 - val_accuracy: 0.6693\n",
      "Epoch 25/150\n",
      "52/52 [==============================] - 0s 3ms/step - loss: 0.5779 - accuracy: 0.6848 - val_loss: 0.6789 - val_accuracy: 0.6535\n",
      "Epoch 26/150\n",
      "52/52 [==============================] - 0s 4ms/step - loss: 0.5749 - accuracy: 0.7043 - val_loss: 0.6671 - val_accuracy: 0.6378\n",
      "Epoch 27/150\n",
      "52/52 [==============================] - 0s 3ms/step - loss: 0.5638 - accuracy: 0.7179 - val_loss: 0.6513 - val_accuracy: 0.6575\n",
      "Epoch 28/150\n",
      "52/52 [==============================] - 0s 3ms/step - loss: 0.5467 - accuracy: 0.7315 - val_loss: 0.6632 - val_accuracy: 0.6457\n",
      "Epoch 29/150\n",
      "52/52 [==============================] - 0s 3ms/step - loss: 0.5722 - accuracy: 0.6868 - val_loss: 0.6512 - val_accuracy: 0.6772\n",
      "Epoch 30/150\n",
      "52/52 [==============================] - 0s 3ms/step - loss: 0.5567 - accuracy: 0.7160 - val_loss: 0.6422 - val_accuracy: 0.6811\n",
      "Epoch 31/150\n",
      "52/52 [==============================] - 0s 3ms/step - loss: 0.5767 - accuracy: 0.7062 - val_loss: 0.6322 - val_accuracy: 0.6929\n",
      "Epoch 32/150\n",
      "52/52 [==============================] - 0s 4ms/step - loss: 0.5576 - accuracy: 0.6965 - val_loss: 0.6270 - val_accuracy: 0.7008\n",
      "Epoch 33/150\n",
      "52/52 [==============================] - 0s 3ms/step - loss: 0.5691 - accuracy: 0.7101 - val_loss: 0.6496 - val_accuracy: 0.6969\n",
      "Epoch 34/150\n",
      "52/52 [==============================] - 0s 3ms/step - loss: 0.5542 - accuracy: 0.7257 - val_loss: 0.6276 - val_accuracy: 0.6969\n",
      "Epoch 35/150\n",
      "52/52 [==============================] - 0s 3ms/step - loss: 0.5514 - accuracy: 0.7276 - val_loss: 0.6232 - val_accuracy: 0.6890\n",
      "Epoch 36/150\n",
      "52/52 [==============================] - 0s 3ms/step - loss: 0.5535 - accuracy: 0.7218 - val_loss: 0.6287 - val_accuracy: 0.6811\n",
      "Epoch 37/150\n",
      "52/52 [==============================] - 0s 4ms/step - loss: 0.5454 - accuracy: 0.7179 - val_loss: 0.6188 - val_accuracy: 0.6929\n",
      "Epoch 38/150\n",
      "52/52 [==============================] - 0s 4ms/step - loss: 0.5506 - accuracy: 0.7451 - val_loss: 0.6359 - val_accuracy: 0.6496\n",
      "Epoch 39/150\n",
      "52/52 [==============================] - 0s 3ms/step - loss: 0.5565 - accuracy: 0.7276 - val_loss: 0.6209 - val_accuracy: 0.6890\n",
      "Epoch 40/150\n",
      "52/52 [==============================] - 0s 3ms/step - loss: 0.5397 - accuracy: 0.7276 - val_loss: 0.6145 - val_accuracy: 0.6890\n",
      "Epoch 41/150\n",
      "52/52 [==============================] - 0s 3ms/step - loss: 0.5442 - accuracy: 0.7354 - val_loss: 0.6112 - val_accuracy: 0.7008\n",
      "Epoch 42/150\n",
      "52/52 [==============================] - 0s 3ms/step - loss: 0.5453 - accuracy: 0.7335 - val_loss: 0.6141 - val_accuracy: 0.6850\n",
      "Epoch 43/150\n",
      "52/52 [==============================] - 0s 4ms/step - loss: 0.5472 - accuracy: 0.7276 - val_loss: 0.6139 - val_accuracy: 0.6969\n",
      "Epoch 44/150\n",
      "52/52 [==============================] - 0s 4ms/step - loss: 0.5696 - accuracy: 0.7237 - val_loss: 0.6124 - val_accuracy: 0.6969\n",
      "Epoch 45/150\n",
      "52/52 [==============================] - 0s 3ms/step - loss: 0.5362 - accuracy: 0.7335 - val_loss: 0.6143 - val_accuracy: 0.6969\n",
      "Epoch 46/150\n",
      "52/52 [==============================] - 0s 3ms/step - loss: 0.5580 - accuracy: 0.7315 - val_loss: 0.6042 - val_accuracy: 0.7008\n",
      "Epoch 47/150\n",
      "52/52 [==============================] - 0s 3ms/step - loss: 0.5522 - accuracy: 0.7179 - val_loss: 0.6506 - val_accuracy: 0.6496\n",
      "Epoch 48/150\n",
      "52/52 [==============================] - 0s 3ms/step - loss: 0.5451 - accuracy: 0.7179 - val_loss: 0.6034 - val_accuracy: 0.7008\n",
      "Epoch 49/150\n",
      "52/52 [==============================] - 0s 4ms/step - loss: 0.5379 - accuracy: 0.7335 - val_loss: 0.6125 - val_accuracy: 0.6969\n",
      "Epoch 50/150\n",
      "52/52 [==============================] - 0s 3ms/step - loss: 0.5430 - accuracy: 0.7412 - val_loss: 0.6038 - val_accuracy: 0.6929\n",
      "Epoch 51/150\n",
      "52/52 [==============================] - 0s 3ms/step - loss: 0.5396 - accuracy: 0.7335 - val_loss: 0.6082 - val_accuracy: 0.6890\n",
      "Epoch 52/150\n",
      "52/52 [==============================] - 0s 3ms/step - loss: 0.5416 - accuracy: 0.7315 - val_loss: 0.6340 - val_accuracy: 0.6969\n",
      "Epoch 53/150\n",
      "52/52 [==============================] - 0s 3ms/step - loss: 0.5255 - accuracy: 0.7412 - val_loss: 0.6092 - val_accuracy: 0.6850\n",
      "Epoch 54/150\n",
      "52/52 [==============================] - 0s 3ms/step - loss: 0.5435 - accuracy: 0.7296 - val_loss: 0.6127 - val_accuracy: 0.6890\n",
      "Epoch 55/150\n",
      "52/52 [==============================] - 0s 3ms/step - loss: 0.5320 - accuracy: 0.7276 - val_loss: 0.6247 - val_accuracy: 0.6654\n",
      "Epoch 56/150\n",
      "52/52 [==============================] - 0s 4ms/step - loss: 0.5440 - accuracy: 0.7198 - val_loss: 0.5987 - val_accuracy: 0.7047\n",
      "Epoch 57/150\n",
      "52/52 [==============================] - 0s 3ms/step - loss: 0.5559 - accuracy: 0.7257 - val_loss: 0.6083 - val_accuracy: 0.7008\n",
      "Epoch 58/150\n",
      "52/52 [==============================] - 0s 3ms/step - loss: 0.5286 - accuracy: 0.7412 - val_loss: 0.6035 - val_accuracy: 0.6890\n"
     ]
    },
    {
     "name": "stdout",
     "output_type": "stream",
     "text": [
      "Epoch 59/150\n",
      "52/52 [==============================] - 0s 3ms/step - loss: 0.5283 - accuracy: 0.7335 - val_loss: 0.5979 - val_accuracy: 0.7047\n",
      "Epoch 60/150\n",
      "52/52 [==============================] - 0s 3ms/step - loss: 0.5172 - accuracy: 0.7529 - val_loss: 0.5929 - val_accuracy: 0.6929\n",
      "Epoch 61/150\n",
      "52/52 [==============================] - 0s 4ms/step - loss: 0.5258 - accuracy: 0.7393 - val_loss: 0.5898 - val_accuracy: 0.7126\n",
      "Epoch 62/150\n",
      "52/52 [==============================] - 0s 3ms/step - loss: 0.5222 - accuracy: 0.7471 - val_loss: 0.6021 - val_accuracy: 0.6969\n",
      "Epoch 63/150\n",
      "52/52 [==============================] - 0s 3ms/step - loss: 0.5297 - accuracy: 0.7490 - val_loss: 0.5887 - val_accuracy: 0.7087\n",
      "Epoch 64/150\n",
      "52/52 [==============================] - 0s 3ms/step - loss: 0.5681 - accuracy: 0.7101 - val_loss: 0.5862 - val_accuracy: 0.7205\n",
      "Epoch 65/150\n",
      "52/52 [==============================] - 0s 3ms/step - loss: 0.5202 - accuracy: 0.7451 - val_loss: 0.5944 - val_accuracy: 0.7008\n",
      "Epoch 66/150\n",
      "52/52 [==============================] - 0s 3ms/step - loss: 0.5288 - accuracy: 0.7179 - val_loss: 0.5991 - val_accuracy: 0.6969\n",
      "Epoch 67/150\n",
      "52/52 [==============================] - 0s 3ms/step - loss: 0.5153 - accuracy: 0.7685 - val_loss: 0.5884 - val_accuracy: 0.7165\n",
      "Epoch 68/150\n",
      "52/52 [==============================] - 0s 3ms/step - loss: 0.5433 - accuracy: 0.7218 - val_loss: 0.6085 - val_accuracy: 0.6811\n",
      "Epoch 69/150\n",
      "52/52 [==============================] - 0s 3ms/step - loss: 0.5239 - accuracy: 0.7432 - val_loss: 0.5843 - val_accuracy: 0.7283\n",
      "Epoch 70/150\n",
      "52/52 [==============================] - 0s 3ms/step - loss: 0.5150 - accuracy: 0.7374 - val_loss: 0.5930 - val_accuracy: 0.6850\n",
      "Epoch 71/150\n",
      "52/52 [==============================] - 0s 3ms/step - loss: 0.5102 - accuracy: 0.7568 - val_loss: 0.5944 - val_accuracy: 0.7047\n",
      "Epoch 72/150\n",
      "52/52 [==============================] - 0s 3ms/step - loss: 0.5226 - accuracy: 0.7412 - val_loss: 0.6039 - val_accuracy: 0.7008\n",
      "Epoch 73/150\n",
      "52/52 [==============================] - 0s 3ms/step - loss: 0.5313 - accuracy: 0.7432 - val_loss: 0.5838 - val_accuracy: 0.7205\n",
      "Epoch 74/150\n",
      "52/52 [==============================] - 0s 3ms/step - loss: 0.5289 - accuracy: 0.7374 - val_loss: 0.5846 - val_accuracy: 0.7283\n",
      "Epoch 75/150\n",
      "52/52 [==============================] - 0s 3ms/step - loss: 0.5062 - accuracy: 0.7646 - val_loss: 0.5967 - val_accuracy: 0.6969\n",
      "Epoch 76/150\n",
      "52/52 [==============================] - 0s 3ms/step - loss: 0.5129 - accuracy: 0.7412 - val_loss: 0.5833 - val_accuracy: 0.7008\n",
      "Epoch 77/150\n",
      "52/52 [==============================] - 0s 3ms/step - loss: 0.5068 - accuracy: 0.7665 - val_loss: 0.6208 - val_accuracy: 0.6457\n",
      "Epoch 78/150\n",
      "52/52 [==============================] - 0s 3ms/step - loss: 0.5160 - accuracy: 0.7529 - val_loss: 0.5895 - val_accuracy: 0.7008\n",
      "Epoch 79/150\n",
      "52/52 [==============================] - 0s 3ms/step - loss: 0.5117 - accuracy: 0.7451 - val_loss: 0.5929 - val_accuracy: 0.6890\n",
      "Epoch 80/150\n",
      "52/52 [==============================] - 0s 4ms/step - loss: 0.5207 - accuracy: 0.7451 - val_loss: 0.7030 - val_accuracy: 0.5866\n",
      "Epoch 81/150\n",
      "52/52 [==============================] - 0s 3ms/step - loss: 0.5362 - accuracy: 0.7412 - val_loss: 0.5719 - val_accuracy: 0.7087\n",
      "Epoch 82/150\n",
      "52/52 [==============================] - 0s 3ms/step - loss: 0.5289 - accuracy: 0.7315 - val_loss: 0.5982 - val_accuracy: 0.6772\n",
      "Epoch 83/150\n",
      "52/52 [==============================] - 0s 3ms/step - loss: 0.5062 - accuracy: 0.7549 - val_loss: 0.5823 - val_accuracy: 0.7165\n",
      "Epoch 84/150\n",
      "52/52 [==============================] - 0s 3ms/step - loss: 0.5116 - accuracy: 0.7451 - val_loss: 0.5907 - val_accuracy: 0.6811\n",
      "Epoch 85/150\n",
      "52/52 [==============================] - 0s 3ms/step - loss: 0.4931 - accuracy: 0.7607 - val_loss: 0.5925 - val_accuracy: 0.7087\n",
      "Epoch 86/150\n",
      "52/52 [==============================] - 0s 3ms/step - loss: 0.5020 - accuracy: 0.7510 - val_loss: 0.6026 - val_accuracy: 0.6929\n",
      "Epoch 87/150\n",
      "52/52 [==============================] - 0s 3ms/step - loss: 0.5079 - accuracy: 0.7510 - val_loss: 0.5761 - val_accuracy: 0.7402\n",
      "Epoch 88/150\n",
      "52/52 [==============================] - 0s 3ms/step - loss: 0.4943 - accuracy: 0.7626 - val_loss: 0.5808 - val_accuracy: 0.7205\n",
      "Epoch 89/150\n",
      "52/52 [==============================] - 0s 3ms/step - loss: 0.5118 - accuracy: 0.7665 - val_loss: 0.5827 - val_accuracy: 0.7165\n",
      "Epoch 90/150\n",
      "52/52 [==============================] - 0s 3ms/step - loss: 0.5051 - accuracy: 0.7626 - val_loss: 0.6018 - val_accuracy: 0.7008\n",
      "Epoch 91/150\n",
      "52/52 [==============================] - 0s 3ms/step - loss: 0.5148 - accuracy: 0.7412 - val_loss: 0.5819 - val_accuracy: 0.7087\n",
      "Epoch 92/150\n",
      "52/52 [==============================] - 0s 3ms/step - loss: 0.5023 - accuracy: 0.7704 - val_loss: 0.5857 - val_accuracy: 0.7165\n",
      "Epoch 93/150\n",
      "52/52 [==============================] - 0s 3ms/step - loss: 0.5036 - accuracy: 0.7529 - val_loss: 0.5720 - val_accuracy: 0.7283\n",
      "Epoch 94/150\n",
      "52/52 [==============================] - 0s 3ms/step - loss: 0.5031 - accuracy: 0.7607 - val_loss: 0.5981 - val_accuracy: 0.7008\n",
      "Epoch 95/150\n",
      "52/52 [==============================] - 0s 3ms/step - loss: 0.5380 - accuracy: 0.7198 - val_loss: 0.5717 - val_accuracy: 0.7126\n",
      "Epoch 96/150\n",
      "52/52 [==============================] - 0s 3ms/step - loss: 0.5164 - accuracy: 0.7588 - val_loss: 0.6013 - val_accuracy: 0.7047\n",
      "Epoch 97/150\n",
      "52/52 [==============================] - 0s 3ms/step - loss: 0.5107 - accuracy: 0.7743 - val_loss: 0.6400 - val_accuracy: 0.7047\n",
      "Epoch 98/150\n",
      "52/52 [==============================] - 0s 3ms/step - loss: 0.5257 - accuracy: 0.7451 - val_loss: 0.6116 - val_accuracy: 0.6969\n",
      "Epoch 99/150\n",
      "52/52 [==============================] - 0s 4ms/step - loss: 0.4968 - accuracy: 0.7646 - val_loss: 0.5821 - val_accuracy: 0.6929\n",
      "Epoch 100/150\n",
      "52/52 [==============================] - 0s 3ms/step - loss: 0.4978 - accuracy: 0.7802 - val_loss: 0.5862 - val_accuracy: 0.7283\n",
      "Epoch 101/150\n",
      "52/52 [==============================] - 0s 3ms/step - loss: 0.5156 - accuracy: 0.7296 - val_loss: 0.5960 - val_accuracy: 0.7087\n",
      "Epoch 102/150\n",
      "52/52 [==============================] - 0s 3ms/step - loss: 0.4924 - accuracy: 0.7763 - val_loss: 0.5852 - val_accuracy: 0.7126\n",
      "Epoch 103/150\n",
      "52/52 [==============================] - 0s 3ms/step - loss: 0.5210 - accuracy: 0.7549 - val_loss: 0.5933 - val_accuracy: 0.7087\n",
      "Epoch 104/150\n",
      "52/52 [==============================] - 0s 3ms/step - loss: 0.4919 - accuracy: 0.7743 - val_loss: 0.5730 - val_accuracy: 0.7362\n",
      "Epoch 105/150\n",
      "52/52 [==============================] - 0s 3ms/step - loss: 0.5162 - accuracy: 0.7451 - val_loss: 0.5725 - val_accuracy: 0.7480\n",
      "Epoch 106/150\n",
      "52/52 [==============================] - 0s 3ms/step - loss: 0.4886 - accuracy: 0.7626 - val_loss: 0.5845 - val_accuracy: 0.6890\n",
      "Epoch 107/150\n",
      "52/52 [==============================] - 0s 3ms/step - loss: 0.5009 - accuracy: 0.7665 - val_loss: 0.6005 - val_accuracy: 0.6693\n",
      "Epoch 108/150\n",
      "52/52 [==============================] - 0s 3ms/step - loss: 0.5027 - accuracy: 0.7607 - val_loss: 0.5910 - val_accuracy: 0.7165\n",
      "Epoch 109/150\n",
      "52/52 [==============================] - 0s 3ms/step - loss: 0.5096 - accuracy: 0.7510 - val_loss: 0.5788 - val_accuracy: 0.7205\n",
      "Epoch 110/150\n",
      "52/52 [==============================] - 0s 3ms/step - loss: 0.5154 - accuracy: 0.7432 - val_loss: 0.5990 - val_accuracy: 0.7165\n",
      "Epoch 111/150\n",
      "52/52 [==============================] - 0s 3ms/step - loss: 0.4974 - accuracy: 0.7529 - val_loss: 0.6214 - val_accuracy: 0.7165\n",
      "Epoch 112/150\n",
      "52/52 [==============================] - 0s 3ms/step - loss: 0.4994 - accuracy: 0.7685 - val_loss: 0.5747 - val_accuracy: 0.7244\n",
      "Epoch 113/150\n",
      "52/52 [==============================] - 0s 3ms/step - loss: 0.5058 - accuracy: 0.7549 - val_loss: 0.5767 - val_accuracy: 0.7008\n",
      "Epoch 114/150\n",
      "52/52 [==============================] - 0s 3ms/step - loss: 0.4906 - accuracy: 0.7763 - val_loss: 0.5786 - val_accuracy: 0.7283\n",
      "Epoch 115/150\n",
      "52/52 [==============================] - 0s 3ms/step - loss: 0.4877 - accuracy: 0.7510 - val_loss: 0.6219 - val_accuracy: 0.6457\n",
      "Epoch 116/150\n"
     ]
    },
    {
     "name": "stdout",
     "output_type": "stream",
     "text": [
      "52/52 [==============================] - 0s 3ms/step - loss: 0.4989 - accuracy: 0.7607 - val_loss: 0.6211 - val_accuracy: 0.6496\n",
      "Epoch 117/150\n",
      "52/52 [==============================] - 0s 3ms/step - loss: 0.5112 - accuracy: 0.7626 - val_loss: 0.5797 - val_accuracy: 0.7205\n",
      "Epoch 118/150\n",
      "52/52 [==============================] - 0s 3ms/step - loss: 0.4958 - accuracy: 0.7646 - val_loss: 0.5871 - val_accuracy: 0.7165\n",
      "Epoch 119/150\n",
      "52/52 [==============================] - 0s 3ms/step - loss: 0.4998 - accuracy: 0.7646 - val_loss: 0.5873 - val_accuracy: 0.7480\n",
      "Epoch 120/150\n",
      "52/52 [==============================] - 0s 3ms/step - loss: 0.4941 - accuracy: 0.7607 - val_loss: 0.5818 - val_accuracy: 0.7323\n",
      "Epoch 121/150\n",
      "52/52 [==============================] - 0s 3ms/step - loss: 0.4839 - accuracy: 0.7665 - val_loss: 0.5989 - val_accuracy: 0.7165\n",
      "Epoch 122/150\n",
      "52/52 [==============================] - 0s 3ms/step - loss: 0.4841 - accuracy: 0.7568 - val_loss: 0.5846 - val_accuracy: 0.7008\n",
      "Epoch 123/150\n",
      "52/52 [==============================] - 0s 3ms/step - loss: 0.4914 - accuracy: 0.7490 - val_loss: 0.5881 - val_accuracy: 0.7441\n",
      "Epoch 124/150\n",
      "52/52 [==============================] - 0s 3ms/step - loss: 0.5066 - accuracy: 0.7451 - val_loss: 0.5985 - val_accuracy: 0.7008\n",
      "Epoch 125/150\n",
      "52/52 [==============================] - 0s 3ms/step - loss: 0.4962 - accuracy: 0.7374 - val_loss: 0.5913 - val_accuracy: 0.7047\n",
      "Epoch 126/150\n",
      "52/52 [==============================] - 0s 3ms/step - loss: 0.5023 - accuracy: 0.7568 - val_loss: 0.6001 - val_accuracy: 0.7047\n",
      "Epoch 127/150\n",
      "52/52 [==============================] - 0s 3ms/step - loss: 0.4967 - accuracy: 0.7451 - val_loss: 0.6058 - val_accuracy: 0.6969\n",
      "Epoch 128/150\n",
      "52/52 [==============================] - 0s 3ms/step - loss: 0.4946 - accuracy: 0.7490 - val_loss: 0.5746 - val_accuracy: 0.7480\n",
      "Epoch 129/150\n",
      "52/52 [==============================] - 0s 3ms/step - loss: 0.5129 - accuracy: 0.7724 - val_loss: 0.5773 - val_accuracy: 0.7441\n",
      "Epoch 130/150\n",
      "52/52 [==============================] - 0s 3ms/step - loss: 0.4876 - accuracy: 0.7549 - val_loss: 0.5772 - val_accuracy: 0.7362\n",
      "Epoch 131/150\n",
      "52/52 [==============================] - 0s 3ms/step - loss: 0.5009 - accuracy: 0.7510 - val_loss: 0.6337 - val_accuracy: 0.6693\n",
      "Epoch 132/150\n",
      "52/52 [==============================] - 0s 3ms/step - loss: 0.5172 - accuracy: 0.7432 - val_loss: 0.5810 - val_accuracy: 0.7126\n",
      "Epoch 133/150\n",
      "52/52 [==============================] - 0s 3ms/step - loss: 0.4835 - accuracy: 0.7724 - val_loss: 0.5905 - val_accuracy: 0.7205\n",
      "Epoch 134/150\n",
      "52/52 [==============================] - 0s 3ms/step - loss: 0.4820 - accuracy: 0.7588 - val_loss: 0.5938 - val_accuracy: 0.7244\n",
      "Epoch 135/150\n",
      "52/52 [==============================] - 0s 3ms/step - loss: 0.4945 - accuracy: 0.7549 - val_loss: 0.6054 - val_accuracy: 0.6969\n",
      "Epoch 136/150\n",
      "52/52 [==============================] - 0s 4ms/step - loss: 0.4859 - accuracy: 0.7763 - val_loss: 0.5823 - val_accuracy: 0.7559\n",
      "Epoch 137/150\n",
      "52/52 [==============================] - 0s 3ms/step - loss: 0.4803 - accuracy: 0.7646 - val_loss: 0.6025 - val_accuracy: 0.7047\n",
      "Epoch 138/150\n",
      "52/52 [==============================] - 0s 3ms/step - loss: 0.5019 - accuracy: 0.7626 - val_loss: 0.5983 - val_accuracy: 0.7087\n",
      "Epoch 139/150\n",
      "52/52 [==============================] - 0s 3ms/step - loss: 0.4924 - accuracy: 0.7588 - val_loss: 0.6212 - val_accuracy: 0.7126\n",
      "Epoch 140/150\n",
      "52/52 [==============================] - 0s 3ms/step - loss: 0.4840 - accuracy: 0.7549 - val_loss: 0.5985 - val_accuracy: 0.7283\n",
      "Epoch 141/150\n",
      "52/52 [==============================] - 0s 3ms/step - loss: 0.4840 - accuracy: 0.7607 - val_loss: 0.6289 - val_accuracy: 0.7283\n",
      "Epoch 142/150\n",
      "52/52 [==============================] - 0s 3ms/step - loss: 0.4895 - accuracy: 0.7471 - val_loss: 0.5927 - val_accuracy: 0.7480\n",
      "Epoch 143/150\n",
      "52/52 [==============================] - 0s 3ms/step - loss: 0.4858 - accuracy: 0.7685 - val_loss: 0.5897 - val_accuracy: 0.7402\n",
      "Epoch 144/150\n",
      "52/52 [==============================] - 0s 3ms/step - loss: 0.4813 - accuracy: 0.7685 - val_loss: 0.5966 - val_accuracy: 0.7244\n",
      "Epoch 145/150\n",
      "52/52 [==============================] - 0s 3ms/step - loss: 0.4869 - accuracy: 0.7724 - val_loss: 0.5889 - val_accuracy: 0.7283\n",
      "Epoch 146/150\n",
      "52/52 [==============================] - 0s 3ms/step - loss: 0.4761 - accuracy: 0.7724 - val_loss: 0.5860 - val_accuracy: 0.7402\n",
      "Epoch 147/150\n",
      "52/52 [==============================] - 0s 3ms/step - loss: 0.4714 - accuracy: 0.7665 - val_loss: 0.5996 - val_accuracy: 0.7205\n",
      "Epoch 148/150\n",
      "52/52 [==============================] - 0s 3ms/step - loss: 0.4791 - accuracy: 0.7782 - val_loss: 0.6299 - val_accuracy: 0.6614\n",
      "Epoch 149/150\n",
      "52/52 [==============================] - 0s 3ms/step - loss: 0.4861 - accuracy: 0.7607 - val_loss: 0.5815 - val_accuracy: 0.7598\n",
      "Epoch 150/150\n",
      "52/52 [==============================] - 0s 3ms/step - loss: 0.4878 - accuracy: 0.7724 - val_loss: 0.6003 - val_accuracy: 0.7244\n"
     ]
    },
    {
     "data": {
      "text/plain": [
       "<keras.callbacks.History at 0x284b12965e0>"
      ]
     },
     "execution_count": 10,
     "metadata": {},
     "output_type": "execute_result"
    }
   ],
   "source": [
    "# Fit the model\n",
    "model.fit(X, Y, validation_split=0.33, epochs=150, batch_size=10)"
   ]
  },
  {
   "cell_type": "code",
   "execution_count": 11,
   "metadata": {
    "ExecuteTime": {
     "end_time": "2021-10-23T09:41:13.441928Z",
     "start_time": "2021-10-23T09:41:13.105147Z"
    },
    "execution": {
     "iopub.execute_input": "2021-09-13T06:58:43.918250Z",
     "iopub.status.busy": "2021-09-13T06:58:43.917947Z",
     "iopub.status.idle": "2021-09-13T06:58:44.074361Z",
     "shell.execute_reply": "2021-09-13T06:58:44.073296Z",
     "shell.execute_reply.started": "2021-09-13T06:58:43.918221Z"
    }
   },
   "outputs": [
    {
     "name": "stdout",
     "output_type": "stream",
     "text": [
      "24/24 [==============================] - 0s 2ms/step - loss: 0.5202 - accuracy: 0.7526\n",
      "accuracy: 75.26%\n"
     ]
    }
   ],
   "source": [
    "# evaluate the model\n",
    "scores = model.evaluate(X, Y)\n",
    "print(\"%s: %.2f%%\" % (model.metrics_names[1], scores[1]*100))"
   ]
  },
  {
   "cell_type": "code",
   "execution_count": null,
   "metadata": {},
   "outputs": [],
   "source": []
  },
  {
   "cell_type": "code",
   "execution_count": null,
   "metadata": {},
   "outputs": [],
   "source": []
  }
 ],
 "metadata": {
  "kernelspec": {
   "display_name": "Python 3",
   "language": "python",
   "name": "python3"
  },
  "language_info": {
   "codemirror_mode": {
    "name": "ipython",
    "version": 3
   },
   "file_extension": ".py",
   "mimetype": "text/x-python",
   "name": "python",
   "nbconvert_exporter": "python",
   "pygments_lexer": "ipython3",
   "version": "3.8.8"
  },
  "toc": {
   "base_numbering": 1,
   "nav_menu": {},
   "number_sections": true,
   "sideBar": true,
   "skip_h1_title": false,
   "title_cell": "Table of Contents",
   "title_sidebar": "Contents",
   "toc_cell": false,
   "toc_position": {},
   "toc_section_display": true,
   "toc_window_display": false
  }
 },
 "nbformat": 4,
 "nbformat_minor": 4
}
