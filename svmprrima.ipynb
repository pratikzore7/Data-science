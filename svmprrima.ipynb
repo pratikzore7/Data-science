{
 "cells": [
  {
   "cell_type": "code",
   "execution_count": 1,
   "metadata": {
    "ExecuteTime": {
     "end_time": "2021-10-21T06:08:19.829358Z",
     "start_time": "2021-10-21T06:08:15.147542Z"
    },
    "execution": {
     "iopub.execute_input": "2021-09-02T06:05:34.479585Z",
     "iopub.status.busy": "2021-09-02T06:05:34.479223Z",
     "iopub.status.idle": "2021-09-02T06:05:35.512003Z",
     "shell.execute_reply": "2021-09-02T06:05:35.511087Z",
     "shell.execute_reply.started": "2021-09-02T06:05:34.479554Z"
    }
   },
   "outputs": [],
   "source": [
    "# SVM Classification\n",
    "import pandas as pd\n",
    "import numpy as np\n",
    "#from sklearn.feature_extraction.text import CountVectorizer, TfidfVectorizer\n",
    "from sklearn.preprocessing import StandardScaler\n",
    "\n",
    "from sklearn import svm\n",
    "from sklearn.svm import SVC\n",
    "from sklearn.model_selection import GridSearchCV\n",
    "from sklearn.metrics import classification_report\n",
    "\n",
    "\n",
    "from sklearn.metrics import accuracy_score, confusion_matrix\n",
    "from sklearn.model_selection import train_test_split, cross_val_score\n",
    "\n"
   ]
  },
  {
   "cell_type": "code",
   "execution_count": 2,
   "metadata": {
    "ExecuteTime": {
     "end_time": "2021-10-21T06:08:22.305860Z",
     "start_time": "2021-10-21T06:08:22.281884Z"
    },
    "execution": {
     "iopub.execute_input": "2021-09-02T06:05:35.514006Z",
     "iopub.status.busy": "2021-09-02T06:05:35.513753Z",
     "iopub.status.idle": "2021-09-02T06:05:35.544744Z",
     "shell.execute_reply": "2021-09-02T06:05:35.543841Z",
     "shell.execute_reply.started": "2021-09-02T06:05:35.513978Z"
    }
   },
   "outputs": [],
   "source": [
    "filename = r'C:\\Users\\DELL\\Documents\\Pune @ Exelr\\KNN & SVM\\pima-indians-diabetes.data.csv'\n",
    "names = ['preg', 'plas', 'pres', 'skin', 'test', 'mass', 'pedi', 'age', 'class']\n",
    "dataframe = pd.read_csv(filename, names=names)\n",
    "array = dataframe.values\n",
    "X = array[:,0:8]\n",
    "Y = array[:,8]"
   ]
  },
  {
   "cell_type": "code",
   "execution_count": 3,
   "metadata": {
    "ExecuteTime": {
     "end_time": "2021-10-21T06:08:31.316466Z",
     "start_time": "2021-10-21T06:08:31.292444Z"
    },
    "execution": {
     "iopub.execute_input": "2021-09-02T06:05:35.546153Z",
     "iopub.status.busy": "2021-09-02T06:05:35.545885Z",
     "iopub.status.idle": "2021-09-02T06:05:35.553695Z",
     "shell.execute_reply": "2021-09-02T06:05:35.552564Z",
     "shell.execute_reply.started": "2021-09-02T06:05:35.546128Z"
    }
   },
   "outputs": [],
   "source": [
    "X_train, X_test, y_train, y_test = train_test_split(X,Y, test_size = 0.3)"
   ]
  },
  {
   "cell_type": "code",
   "execution_count": 4,
   "metadata": {
    "ExecuteTime": {
     "end_time": "2021-10-21T06:08:33.082710Z",
     "start_time": "2021-10-21T06:08:33.049100Z"
    },
    "execution": {
     "iopub.execute_input": "2021-09-02T06:05:35.555918Z",
     "iopub.status.busy": "2021-09-02T06:05:35.555499Z",
     "iopub.status.idle": "2021-09-02T06:05:35.568206Z",
     "shell.execute_reply": "2021-09-02T06:05:35.567259Z",
     "shell.execute_reply.started": "2021-09-02T06:05:35.555875Z"
    }
   },
   "outputs": [
    {
     "data": {
      "text/plain": [
       "((537, 8), (537,), (231, 8), (231,))"
      ]
     },
     "execution_count": 4,
     "metadata": {},
     "output_type": "execute_result"
    }
   ],
   "source": [
    "X_train.shape, y_train.shape, X_test.shape, y_test.shape"
   ]
  },
  {
   "cell_type": "markdown",
   "metadata": {},
   "source": [
    "### Grid Search CV"
   ]
  },
  {
   "cell_type": "code",
   "execution_count": 5,
   "metadata": {
    "ExecuteTime": {
     "end_time": "2021-10-21T06:09:01.647985Z",
     "start_time": "2021-10-21T06:08:36.763419Z"
    },
    "execution": {
     "iopub.execute_input": "2021-09-02T06:05:35.570210Z",
     "iopub.status.busy": "2021-09-02T06:05:35.569921Z",
     "iopub.status.idle": "2021-09-02T06:05:40.075239Z",
     "shell.execute_reply": "2021-09-02T06:05:40.074517Z",
     "shell.execute_reply.started": "2021-09-02T06:05:35.570181Z"
    }
   },
   "outputs": [
    {
     "data": {
      "text/plain": [
       "GridSearchCV(cv=10, estimator=SVC(),\n",
       "             param_grid=[{'C': [15, 14, 13, 12, 11, 10, 0.1, 0.001],\n",
       "                          'gamma': [50, 5, 10, 0.5], 'kernel': ['rbf']}])"
      ]
     },
     "execution_count": 5,
     "metadata": {},
     "output_type": "execute_result"
    }
   ],
   "source": [
    "clf = SVC()\n",
    "param_grid = [{'kernel':['rbf'],'gamma':[50,5,10,0.5],'C':[15,14,13,12,11,10,0.1,0.001] }]\n",
    "gsv = GridSearchCV(clf,param_grid,cv=10)\n",
    "gsv.fit(X_train,y_train)"
   ]
  },
  {
   "cell_type": "code",
   "execution_count": 6,
   "metadata": {
    "ExecuteTime": {
     "end_time": "2021-10-21T06:09:04.298312Z",
     "start_time": "2021-10-21T06:09:04.282307Z"
    },
    "execution": {
     "iopub.execute_input": "2021-09-02T06:05:40.076638Z",
     "iopub.status.busy": "2021-09-02T06:05:40.076286Z",
     "iopub.status.idle": "2021-09-02T06:05:40.081753Z",
     "shell.execute_reply": "2021-09-02T06:05:40.080884Z",
     "shell.execute_reply.started": "2021-09-02T06:05:40.076610Z"
    }
   },
   "outputs": [
    {
     "data": {
      "text/plain": [
       "({'C': 15, 'gamma': 50, 'kernel': 'rbf'}, 0.6424528301886794)"
      ]
     },
     "execution_count": 6,
     "metadata": {},
     "output_type": "execute_result"
    }
   ],
   "source": [
    "gsv.best_params_ , gsv.best_score_ "
   ]
  },
  {
   "cell_type": "code",
   "execution_count": 7,
   "metadata": {
    "ExecuteTime": {
     "end_time": "2021-10-21T06:09:06.614762Z",
     "start_time": "2021-10-21T06:09:06.422797Z"
    },
    "execution": {
     "iopub.execute_input": "2021-09-02T06:05:40.083477Z",
     "iopub.status.busy": "2021-09-02T06:05:40.083017Z",
     "iopub.status.idle": "2021-09-02T06:05:40.116787Z",
     "shell.execute_reply": "2021-09-02T06:05:40.116054Z",
     "shell.execute_reply.started": "2021-09-02T06:05:40.083444Z"
    }
   },
   "outputs": [
    {
     "name": "stdout",
     "output_type": "stream",
     "text": [
      "Accuracy = 67.09956709956711\n"
     ]
    },
    {
     "data": {
      "text/plain": [
       "array([[155,   0],\n",
       "       [ 76,   0]], dtype=int64)"
      ]
     },
     "execution_count": 7,
     "metadata": {},
     "output_type": "execute_result"
    }
   ],
   "source": [
    "clf = SVC(C= 15, gamma = 50)\n",
    "clf.fit(X_train , y_train)\n",
    "y_pred = clf.predict(X_test)\n",
    "acc = accuracy_score(y_test, y_pred) * 100\n",
    "print(\"Accuracy =\", acc)\n",
    "confusion_matrix(y_test, y_pred)"
   ]
  },
  {
   "cell_type": "code",
   "execution_count": null,
   "metadata": {},
   "outputs": [],
   "source": []
  },
  {
   "cell_type": "code",
   "execution_count": null,
   "metadata": {},
   "outputs": [],
   "source": []
  },
  {
   "cell_type": "code",
   "execution_count": null,
   "metadata": {},
   "outputs": [],
   "source": []
  }
 ],
 "metadata": {
  "kernelspec": {
   "display_name": "Python 3",
   "language": "python",
   "name": "python3"
  },
  "language_info": {
   "codemirror_mode": {
    "name": "ipython",
    "version": 3
   },
   "file_extension": ".py",
   "mimetype": "text/x-python",
   "name": "python",
   "nbconvert_exporter": "python",
   "pygments_lexer": "ipython3",
   "version": "3.8.8"
  },
  "toc": {
   "base_numbering": 1,
   "nav_menu": {},
   "number_sections": true,
   "sideBar": true,
   "skip_h1_title": false,
   "title_cell": "Table of Contents",
   "title_sidebar": "Contents",
   "toc_cell": false,
   "toc_position": {},
   "toc_section_display": true,
   "toc_window_display": false
  }
 },
 "nbformat": 4,
 "nbformat_minor": 4
}
