{
 "cells": [
  {
   "cell_type": "markdown",
   "id": "6ef53494",
   "metadata": {},
   "source": [
    "#  import data set"
   ]
  },
  {
   "cell_type": "code",
   "execution_count": 5,
   "id": "05f57067",
   "metadata": {
    "ExecuteTime": {
     "end_time": "2021-08-06T05:37:36.720356Z",
     "start_time": "2021-08-06T05:37:18.547140Z"
    }
   },
   "outputs": [],
   "source": [
    "import pandas as pd\n"
   ]
  },
  {
   "cell_type": "code",
   "execution_count": 6,
   "id": "e24d9705",
   "metadata": {
    "ExecuteTime": {
     "end_time": "2021-08-06T05:37:37.053524Z",
     "start_time": "2021-08-06T05:37:36.720356Z"
    }
   },
   "outputs": [
    {
     "name": "stdout",
     "output_type": "stream",
     "text": [
      " Volume in drive C has no label.\n",
      " Volume Serial Number is B66D-EEDA\n",
      "\n",
      " Directory of C:\\Users\\DELL\\Documents\\Pune @ Exelr\\Linear Regration\n",
      "\n",
      "06-08-2021  11:07    <DIR>          .\n",
      "06-08-2021  11:07    <DIR>          ..\n",
      "05-08-2021  12:45    <DIR>          .ipynb_checkpoints\n",
      "06-08-2021  11:07            70,397 LR homework.ipynb\n",
      "06-08-2021  11:01            69,216 new-linear-regression.ipynb\n",
      "05-08-2021  12:33             1,240 NewspaperData.csv\n",
      "05-08-2021  12:35             1,170 WC_AT - WC_AT.csv\n",
      "               4 File(s)        142,023 bytes\n",
      "               3 Dir(s)  198,560,808,960 bytes free\n"
     ]
    }
   ],
   "source": [
    "ls"
   ]
  },
  {
   "cell_type": "code",
   "execution_count": 7,
   "id": "b823016a",
   "metadata": {
    "ExecuteTime": {
     "end_time": "2021-08-06T05:37:37.442071Z",
     "start_time": "2021-08-06T05:37:37.060520Z"
    }
   },
   "outputs": [],
   "source": [
    "data=pd.read_csv(\"WC_AT - WC_AT.csv\")"
   ]
  },
  {
   "cell_type": "code",
   "execution_count": 8,
   "id": "ed743245",
   "metadata": {
    "ExecuteTime": {
     "end_time": "2021-08-06T05:37:37.995267Z",
     "start_time": "2021-08-06T05:37:37.450034Z"
    }
   },
   "outputs": [
    {
     "data": {
      "text/html": [
       "<div>\n",
       "<style scoped>\n",
       "    .dataframe tbody tr th:only-of-type {\n",
       "        vertical-align: middle;\n",
       "    }\n",
       "\n",
       "    .dataframe tbody tr th {\n",
       "        vertical-align: top;\n",
       "    }\n",
       "\n",
       "    .dataframe thead th {\n",
       "        text-align: right;\n",
       "    }\n",
       "</style>\n",
       "<table border=\"1\" class=\"dataframe\">\n",
       "  <thead>\n",
       "    <tr style=\"text-align: right;\">\n",
       "      <th></th>\n",
       "      <th>Waist</th>\n",
       "      <th>AT</th>\n",
       "    </tr>\n",
       "  </thead>\n",
       "  <tbody>\n",
       "    <tr>\n",
       "      <th>0</th>\n",
       "      <td>74.75</td>\n",
       "      <td>25.72</td>\n",
       "    </tr>\n",
       "    <tr>\n",
       "      <th>1</th>\n",
       "      <td>72.60</td>\n",
       "      <td>25.89</td>\n",
       "    </tr>\n",
       "    <tr>\n",
       "      <th>2</th>\n",
       "      <td>81.80</td>\n",
       "      <td>42.60</td>\n",
       "    </tr>\n",
       "    <tr>\n",
       "      <th>3</th>\n",
       "      <td>83.95</td>\n",
       "      <td>42.80</td>\n",
       "    </tr>\n",
       "    <tr>\n",
       "      <th>4</th>\n",
       "      <td>74.65</td>\n",
       "      <td>29.84</td>\n",
       "    </tr>\n",
       "  </tbody>\n",
       "</table>\n",
       "</div>"
      ],
      "text/plain": [
       "   Waist     AT\n",
       "0  74.75  25.72\n",
       "1  72.60  25.89\n",
       "2  81.80  42.60\n",
       "3  83.95  42.80\n",
       "4  74.65  29.84"
      ]
     },
     "execution_count": 8,
     "metadata": {},
     "output_type": "execute_result"
    }
   ],
   "source": [
    "data.head()"
   ]
  },
  {
   "cell_type": "markdown",
   "id": "51d4b2cb",
   "metadata": {},
   "source": [
    "# 2 correlation"
   ]
  },
  {
   "cell_type": "code",
   "execution_count": 9,
   "id": "beab55a7",
   "metadata": {
    "ExecuteTime": {
     "end_time": "2021-08-06T05:37:38.431695Z",
     "start_time": "2021-08-06T05:37:38.000261Z"
    }
   },
   "outputs": [
    {
     "name": "stdout",
     "output_type": "stream",
     "text": [
      "<class 'pandas.core.frame.DataFrame'>\n",
      "RangeIndex: 109 entries, 0 to 108\n",
      "Data columns (total 2 columns):\n",
      " #   Column  Non-Null Count  Dtype  \n",
      "---  ------  --------------  -----  \n",
      " 0   Waist   109 non-null    float64\n",
      " 1   AT      109 non-null    float64\n",
      "dtypes: float64(2)\n",
      "memory usage: 1.8 KB\n"
     ]
    }
   ],
   "source": [
    "data.info()"
   ]
  },
  {
   "cell_type": "code",
   "execution_count": 10,
   "id": "2d5fa038",
   "metadata": {
    "ExecuteTime": {
     "end_time": "2021-08-06T05:37:38.491760Z",
     "start_time": "2021-08-06T05:37:38.440688Z"
    }
   },
   "outputs": [
    {
     "data": {
      "text/html": [
       "<div>\n",
       "<style scoped>\n",
       "    .dataframe tbody tr th:only-of-type {\n",
       "        vertical-align: middle;\n",
       "    }\n",
       "\n",
       "    .dataframe tbody tr th {\n",
       "        vertical-align: top;\n",
       "    }\n",
       "\n",
       "    .dataframe thead th {\n",
       "        text-align: right;\n",
       "    }\n",
       "</style>\n",
       "<table border=\"1\" class=\"dataframe\">\n",
       "  <thead>\n",
       "    <tr style=\"text-align: right;\">\n",
       "      <th></th>\n",
       "      <th>Waist</th>\n",
       "      <th>AT</th>\n",
       "    </tr>\n",
       "  </thead>\n",
       "  <tbody>\n",
       "    <tr>\n",
       "      <th>Waist</th>\n",
       "      <td>1.000000</td>\n",
       "      <td>0.818558</td>\n",
       "    </tr>\n",
       "    <tr>\n",
       "      <th>AT</th>\n",
       "      <td>0.818558</td>\n",
       "      <td>1.000000</td>\n",
       "    </tr>\n",
       "  </tbody>\n",
       "</table>\n",
       "</div>"
      ],
      "text/plain": [
       "          Waist        AT\n",
       "Waist  1.000000  0.818558\n",
       "AT     0.818558  1.000000"
      ]
     },
     "execution_count": 10,
     "metadata": {},
     "output_type": "execute_result"
    }
   ],
   "source": [
    "data.corr()"
   ]
  },
  {
   "cell_type": "code",
   "execution_count": 11,
   "id": "a54461dd",
   "metadata": {
    "ExecuteTime": {
     "end_time": "2021-08-06T05:38:04.019661Z",
     "start_time": "2021-08-06T05:37:38.495759Z"
    }
   },
   "outputs": [
    {
     "name": "stderr",
     "output_type": "stream",
     "text": [
      "C:\\Users\\DELL\\anaconda3\\lib\\site-packages\\seaborn\\distributions.py:2557: FutureWarning: `distplot` is a deprecated function and will be removed in a future version. Please adapt your code to use either `displot` (a figure-level function with similar flexibility) or `histplot` (an axes-level function for histograms).\n",
      "  warnings.warn(msg, FutureWarning)\n"
     ]
    },
    {
     "data": {
      "text/plain": [
       "<AxesSubplot:xlabel='Waist', ylabel='Density'>"
      ]
     },
     "execution_count": 11,
     "metadata": {},
     "output_type": "execute_result"
    },
    {
     "data": {
      "image/png": "[encoded data removed]",
      "text/plain": [
       "<Figure size 432x288 with 1 Axes>"
      ]
     },
     "metadata": {
      "needs_background": "light"
     },
     "output_type": "display_data"
    }
   ],
   "source": [
    "import seaborn as sns\n",
    "sns.distplot(data['Waist'])"
   ]
  },
  {
   "cell_type": "code",
   "execution_count": 12,
   "id": "898b1507",
   "metadata": {
    "ExecuteTime": {
     "end_time": "2021-08-06T05:38:04.559114Z",
     "start_time": "2021-08-06T05:38:04.025655Z"
    }
   },
   "outputs": [
    {
     "name": "stderr",
     "output_type": "stream",
     "text": [
      "C:\\Users\\DELL\\anaconda3\\lib\\site-packages\\seaborn\\distributions.py:2557: FutureWarning: `distplot` is a deprecated function and will be removed in a future version. Please adapt your code to use either `displot` (a figure-level function with similar flexibility) or `histplot` (an axes-level function for histograms).\n",
      "  warnings.warn(msg, FutureWarning)\n"
     ]
    },
    {
     "data": {
      "text/plain": [
       "<AxesSubplot:xlabel='AT', ylabel='Density'>"
      ]
     },
     "execution_count": 12,
     "metadata": {},
     "output_type": "execute_result"
    },
    {
     "data": {
      "image/png": "[encoded data removed]",
      "text/plain": [
       "<Figure size 432x288 with 1 Axes>"
      ]
     },
     "metadata": {
      "needs_background": "light"
     },
     "output_type": "display_data"
    }
   ],
   "source": [
    "import seaborn as sns\n",
    "sns.distplot(data['AT'])"
   ]
  },
  {
   "cell_type": "code",
   "execution_count": 13,
   "id": "22123564",
   "metadata": {
    "ExecuteTime": {
     "end_time": "2021-08-06T05:38:09.446192Z",
     "start_time": "2021-08-06T05:38:04.562117Z"
    }
   },
   "outputs": [],
   "source": [
    "import statsmodels.formula.api as smf\n",
    "model = smf.ols(\"AT~Waist\",data = data).fit()"
   ]
  },
  {
   "cell_type": "code",
   "execution_count": 14,
   "id": "8da431e1",
   "metadata": {
    "ExecuteTime": {
     "end_time": "2021-08-06T05:38:10.541415Z",
     "start_time": "2021-08-06T05:38:09.446192Z"
    }
   },
   "outputs": [
    {
     "data": {
      "image/png": "[encoded data removed]",
      "text/plain": [
       "<Figure size 432x288 with 1 Axes>"
      ]
     },
     "metadata": {
      "needs_background": "light"
     },
     "output_type": "display_data"
    }
   ],
   "source": [
    "sns.regplot(x=\"Waist\", y=\"AT\", data=data);"
   ]
  },
  {
   "cell_type": "code",
   "execution_count": 16,
   "id": "ba352bb6",
   "metadata": {
    "ExecuteTime": {
     "end_time": "2021-08-06T05:41:18.441767Z",
     "start_time": "2021-08-06T05:41:18.418962Z"
    }
   },
   "outputs": [
    {
     "data": {
      "text/plain": [
       "Intercept   -215.981488\n",
       "Waist          3.458859\n",
       "dtype: float64"
      ]
     },
     "execution_count": 16,
     "metadata": {},
     "output_type": "execute_result"
    }
   ],
   "source": [
    "# Coefficients\n",
    "model.params\n"
   ]
  },
  {
   "cell_type": "code",
   "execution_count": 17,
   "id": "16521dee",
   "metadata": {
    "ExecuteTime": {
     "end_time": "2021-08-06T05:41:59.518736Z",
     "start_time": "2021-08-06T05:41:59.507744Z"
    }
   },
   "outputs": [
    {
     "name": "stdout",
     "output_type": "stream",
     "text": [
      "Intercept    -9.909103\n",
      "Waist        14.740376\n",
      "dtype: float64 \n",
      " Intercept    8.197416e-17\n",
      "Waist        1.618607e-27\n",
      "dtype: float64\n"
     ]
    }
   ],
   "source": [
    "# t and p-Values\n",
    "print(model.tvalues, '\\n', model.pvalues)  "
   ]
  },
  {
   "cell_type": "code",
   "execution_count": 18,
   "id": "4cbc4bc0",
   "metadata": {
    "ExecuteTime": {
     "end_time": "2021-08-06T05:42:25.956721Z",
     "start_time": "2021-08-06T05:42:25.948725Z"
    }
   },
   "outputs": [
    {
     "data": {
      "text/plain": [
       "(0.6700368930528429, 0.6669531256981966)"
      ]
     },
     "execution_count": 18,
     "metadata": {},
     "output_type": "execute_result"
    }
   ],
   "source": [
    "# R squared values\n",
    "(model.rsquared,model.rsquared_adj)"
   ]
  },
  {
   "cell_type": "markdown",
   "id": "0a284a00",
   "metadata": {},
   "source": [
    "#  Predict for new data point"
   ]
  },
  {
   "cell_type": "code",
   "execution_count": 19,
   "id": "6345bffb",
   "metadata": {
    "ExecuteTime": {
     "end_time": "2021-08-06T05:42:37.464790Z",
     "start_time": "2021-08-06T05:42:37.458796Z"
    }
   },
   "outputs": [],
   "source": [
    "# Predict for 81.80 and 83.95 daily circulation\n",
    "newdata=pd.Series([81.80,83.95])"
   ]
  },
  {
   "cell_type": "code",
   "execution_count": 20,
   "id": "dbc54460",
   "metadata": {
    "ExecuteTime": {
     "end_time": "2021-08-06T05:42:45.095811Z",
     "start_time": "2021-08-06T05:42:45.090818Z"
    }
   },
   "outputs": [],
   "source": [
    "data_pred=pd.DataFrame(newdata,columns=['Waist'])"
   ]
  },
  {
   "cell_type": "code",
   "execution_count": 21,
   "id": "60b0acc4",
   "metadata": {
    "ExecuteTime": {
     "end_time": "2021-08-06T05:42:53.087949Z",
     "start_time": "2021-08-06T05:42:53.066961Z"
    }
   },
   "outputs": [
    {
     "data": {
      "text/plain": [
       "0    66.953210\n",
       "1    74.389758\n",
       "dtype: float64"
      ]
     },
     "execution_count": 21,
     "metadata": {},
     "output_type": "execute_result"
    }
   ],
   "source": [
    "model.predict(data_pred)"
   ]
  },
  {
   "cell_type": "code",
   "execution_count": null,
   "id": "7f8a8b4a",
   "metadata": {},
   "outputs": [],
   "source": []
  },
  {
   "cell_type": "code",
   "execution_count": null,
   "id": "b33be863",
   "metadata": {},
   "outputs": [],
   "source": []
  },
  {
   "cell_type": "code",
   "execution_count": null,
   "id": "8ae434a5",
   "metadata": {},
   "outputs": [],
   "source": []
  },
  {
   "cell_type": "code",
   "execution_count": null,
   "id": "f9a74ff6",
   "metadata": {},
   "outputs": [],
   "source": []
  }
 ],
 "metadata": {
  "gist": {
   "data": {
    "description": "Documents/Pune @ Exelr/Linear Regration/LR homework.ipynb",
    "public": true
   },
   "id": ""
  },
  "kernelspec": {
   "display_name": "Python 3",
   "language": "python",
   "name": "python3"
  },
  "language_info": {
   "codemirror_mode": {
    "name": "ipython",
    "version": 3
   },
   "file_extension": ".py",
   "mimetype": "text/x-python",
   "name": "python",
   "nbconvert_exporter": "python",
   "pygments_lexer": "ipython3",
   "version": "3.8.8"
  },
  "toc": {
   "base_numbering": 1,
   "nav_menu": {},
   "number_sections": true,
   "sideBar": true,
   "skip_h1_title": false,
   "title_cell": "Table of Contents",
   "title_sidebar": "Contents",
   "toc_cell": false,
   "toc_position": {},
   "toc_section_display": true,
   "toc_window_display": false
  }
 },
 "nbformat": 4,
 "nbformat_minor": 5
}
